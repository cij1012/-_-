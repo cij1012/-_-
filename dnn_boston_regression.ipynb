{
  "nbformat": 4,
  "nbformat_minor": 0,
  "metadata": {
    "colab": {
      "name": "dnn_boston_regression.ipynb",
      "provenance": [],
      "collapsed_sections": [],
      "include_colab_link": true
    },
    "kernelspec": {
      "name": "python3",
      "display_name": "Python 3"
    },
    "accelerator": "GPU"
  },
  "cells": [
    {
      "cell_type": "markdown",
      "metadata": {
        "id": "view-in-github",
        "colab_type": "text"
      },
      "source": [
        "<a href=\"https://colab.research.google.com/github/cij1012/python/blob/master/dnn_boston_regression.ipynb\" target=\"_parent\"><img src=\"https://colab.research.google.com/assets/colab-badge.svg\" alt=\"Open In Colab\"/></a>"
      ]
    },
    {
      "cell_type": "code",
      "metadata": {
        "id": "xREwX8qiyTng",
        "colab_type": "code",
        "colab": {
          "base_uri": "https://localhost:8080/",
          "height": 53
        },
        "outputId": "7db8d0fd-e322-48d6-efd1-1bea042b0225"
      },
      "source": [
        "from tensorflow.keras.datasets import boston_housing\n",
        "\n",
        "(train_data, train_targets), (test_data, test_targets) = boston_housing.load_data()"
      ],
      "execution_count": null,
      "outputs": [
        {
          "output_type": "stream",
          "text": [
            "Downloading data from https://storage.googleapis.com/tensorflow/tf-keras-datasets/boston_housing.npz\n",
            "57344/57026 [==============================] - 0s 0us/step\n"
          ],
          "name": "stdout"
        }
      ]
    },
    {
      "cell_type": "code",
      "metadata": {
        "id": "e23ZGX70y0_d",
        "colab_type": "code",
        "colab": {
          "base_uri": "https://localhost:8080/",
          "height": 53
        },
        "outputId": "995debe1-4b4c-4db0-9d12-c21cdefaec6f"
      },
      "source": [
        "print('train data shape:', train_data.shape)\n",
        "test_data.shape"
      ],
      "execution_count": null,
      "outputs": [
        {
          "output_type": "stream",
          "text": [
            "train data shape: (404, 13)\n"
          ],
          "name": "stdout"
        },
        {
          "output_type": "execute_result",
          "data": {
            "text/plain": [
              "(102, 13)"
            ]
          },
          "metadata": {
            "tags": []
          },
          "execution_count": 2
        }
      ]
    },
    {
      "cell_type": "code",
      "metadata": {
        "id": "dgCTp-P6zANd",
        "colab_type": "code",
        "colab": {
          "base_uri": "https://localhost:8080/",
          "height": 683
        },
        "outputId": "e6e4cba2-4a1d-4857-a2dd-c966a46a4933"
      },
      "source": [
        "train_targets"
      ],
      "execution_count": null,
      "outputs": [
        {
          "output_type": "execute_result",
          "data": {
            "text/plain": [
              "array([15.2, 42.3, 50. , 21.1, 17.7, 18.5, 11.3, 15.6, 15.6, 14.4, 12.1,\n",
              "       17.9, 23.1, 19.9, 15.7,  8.8, 50. , 22.5, 24.1, 27.5, 10.9, 30.8,\n",
              "       32.9, 24. , 18.5, 13.3, 22.9, 34.7, 16.6, 17.5, 22.3, 16.1, 14.9,\n",
              "       23.1, 34.9, 25. , 13.9, 13.1, 20.4, 20. , 15.2, 24.7, 22.2, 16.7,\n",
              "       12.7, 15.6, 18.4, 21. , 30.1, 15.1, 18.7,  9.6, 31.5, 24.8, 19.1,\n",
              "       22. , 14.5, 11. , 32. , 29.4, 20.3, 24.4, 14.6, 19.5, 14.1, 14.3,\n",
              "       15.6, 10.5,  6.3, 19.3, 19.3, 13.4, 36.4, 17.8, 13.5, 16.5,  8.3,\n",
              "       14.3, 16. , 13.4, 28.6, 43.5, 20.2, 22. , 23. , 20.7, 12.5, 48.5,\n",
              "       14.6, 13.4, 23.7, 50. , 21.7, 39.8, 38.7, 22.2, 34.9, 22.5, 31.1,\n",
              "       28.7, 46. , 41.7, 21. , 26.6, 15. , 24.4, 13.3, 21.2, 11.7, 21.7,\n",
              "       19.4, 50. , 22.8, 19.7, 24.7, 36.2, 14.2, 18.9, 18.3, 20.6, 24.6,\n",
              "       18.2,  8.7, 44. , 10.4, 13.2, 21.2, 37. , 30.7, 22.9, 20. , 19.3,\n",
              "       31.7, 32. , 23.1, 18.8, 10.9, 50. , 19.6,  5. , 14.4, 19.8, 13.8,\n",
              "       19.6, 23.9, 24.5, 25. , 19.9, 17.2, 24.6, 13.5, 26.6, 21.4, 11.9,\n",
              "       22.6, 19.6,  8.5, 23.7, 23.1, 22.4, 20.5, 23.6, 18.4, 35.2, 23.1,\n",
              "       27.9, 20.6, 23.7, 28. , 13.6, 27.1, 23.6, 20.6, 18.2, 21.7, 17.1,\n",
              "        8.4, 25.3, 13.8, 22.2, 18.4, 20.7, 31.6, 30.5, 20.3,  8.8, 19.2,\n",
              "       19.4, 23.1, 23. , 14.8, 48.8, 22.6, 33.4, 21.1, 13.6, 32.2, 13.1,\n",
              "       23.4, 18.9, 23.9, 11.8, 23.3, 22.8, 19.6, 16.7, 13.4, 22.2, 20.4,\n",
              "       21.8, 26.4, 14.9, 24.1, 23.8, 12.3, 29.1, 21. , 19.5, 23.3, 23.8,\n",
              "       17.8, 11.5, 21.7, 19.9, 25. , 33.4, 28.5, 21.4, 24.3, 27.5, 33.1,\n",
              "       16.2, 23.3, 48.3, 22.9, 22.8, 13.1, 12.7, 22.6, 15. , 15.3, 10.5,\n",
              "       24. , 18.5, 21.7, 19.5, 33.2, 23.2,  5. , 19.1, 12.7, 22.3, 10.2,\n",
              "       13.9, 16.3, 17. , 20.1, 29.9, 17.2, 37.3, 45.4, 17.8, 23.2, 29. ,\n",
              "       22. , 18. , 17.4, 34.6, 20.1, 25. , 15.6, 24.8, 28.2, 21.2, 21.4,\n",
              "       23.8, 31. , 26.2, 17.4, 37.9, 17.5, 20. ,  8.3, 23.9,  8.4, 13.8,\n",
              "        7.2, 11.7, 17.1, 21.6, 50. , 16.1, 20.4, 20.6, 21.4, 20.6, 36.5,\n",
              "        8.5, 24.8, 10.8, 21.9, 17.3, 18.9, 36.2, 14.9, 18.2, 33.3, 21.8,\n",
              "       19.7, 31.6, 24.8, 19.4, 22.8,  7.5, 44.8, 16.8, 18.7, 50. , 50. ,\n",
              "       19.5, 20.1, 50. , 17.2, 20.8, 19.3, 41.3, 20.4, 20.5, 13.8, 16.5,\n",
              "       23.9, 20.6, 31.5, 23.3, 16.8, 14. , 33.8, 36.1, 12.8, 18.3, 18.7,\n",
              "       19.1, 29. , 30.1, 50. , 50. , 22. , 11.9, 37.6, 50. , 22.7, 20.8,\n",
              "       23.5, 27.9, 50. , 19.3, 23.9, 22.6, 15.2, 21.7, 19.2, 43.8, 20.3,\n",
              "       33.2, 19.9, 22.5, 32.7, 22. , 17.1, 19. , 15. , 16.1, 25.1, 23.7,\n",
              "       28.7, 37.2, 22.6, 16.4, 25. , 29.8, 22.1, 17.4, 18.1, 30.3, 17.5,\n",
              "       24.7, 12.6, 26.5, 28.7, 13.3, 10.4, 24.4, 23. , 20. , 17.8,  7. ,\n",
              "       11.8, 24.4, 13.8, 19.4, 25.2, 19.4, 19.4, 29.1])"
            ]
          },
          "metadata": {
            "tags": []
          },
          "execution_count": 3
        }
      ]
    },
    {
      "cell_type": "code",
      "metadata": {
        "id": "uOGELCLJzUzd",
        "colab_type": "code",
        "colab": {
          "base_uri": "https://localhost:8080/",
          "height": 1000
        },
        "outputId": "52c49694-9715-47e3-d7f1-1455f47e46d1"
      },
      "source": [
        "#특성의 스케일이 다르면 전역 최소 점을 찾아가는 경사 하강법의 경로가 스케일이 큰 특성에 영향을 많이 받기 때문에 정규화가 필요함\n",
        "#특성 중앙이 0근처에, 표준편차는 1로\n",
        "mean = train_data.mean(axis=0)\n",
        "#mean\n",
        "train_data -= mean\n",
        "print(train_data,'\\n')\n",
        "std = train_data.std(axis=0)\n",
        "print(std,'\\n')\n",
        "#standard deviation\n",
        "train_data /= std\n",
        "print(train_data,'\\n')\n",
        "test_data -= mean\n",
        "print(test_data,'\\n')\n",
        "test_data /= std\n",
        "print(test_data,'\\n')\n",
        "#[1,2,3,4,....,13]을 행이아닌 열에 대한 mean값을 불러와야 하기 때문에"
      ],
      "execution_count": null,
      "outputs": [
        {
          "output_type": "stream",
          "text": [
            "[[-0.27224633 -0.48361547 -0.43576161 ...  1.14850044  0.44807713\n",
            "   0.8252202 ]\n",
            " [-0.40342651  2.99178419 -1.33391162 ... -1.71818909  0.43190599\n",
            "  -1.32920239]\n",
            " [ 0.1249402  -0.48361547  1.0283258  ...  0.78447637  0.22061726\n",
            "  -1.30850006]\n",
            " ...\n",
            " [-0.40202987  0.99079651 -0.7415148  ... -0.71712291  0.07943894\n",
            "  -0.67776904]\n",
            " [-0.17292018 -0.48361547  1.24588095 ... -1.71818909 -0.98764362\n",
            "   0.42083466]\n",
            " [-0.40422614  2.04394792 -1.20161456 ... -1.30866202  0.23317118\n",
            "  -1.15392266]] \n",
            "\n",
            "[1. 1. 1. 1. 1. 1. 1. 1. 1. 1. 1. 1. 1.] \n",
            "\n",
            "[[-0.27224633 -0.48361547 -0.43576161 ...  1.14850044  0.44807713\n",
            "   0.8252202 ]\n",
            " [-0.40342651  2.99178419 -1.33391162 ... -1.71818909  0.43190599\n",
            "  -1.32920239]\n",
            " [ 0.1249402  -0.48361547  1.0283258  ...  0.78447637  0.22061726\n",
            "  -1.30850006]\n",
            " ...\n",
            " [-0.40202987  0.99079651 -0.7415148  ... -0.71712291  0.07943894\n",
            "  -0.67776904]\n",
            " [-0.17292018 -0.48361547  1.24588095 ... -1.71818909 -0.98764362\n",
            "   0.42083466]\n",
            " [-0.40422614  2.04394792 -1.20161456 ... -1.30866202  0.23317118\n",
            "  -1.15392266]] \n",
            "\n",
            "[[ 1.55369355 -0.48361547  1.0283258  ...  0.78447637 -3.48459553\n",
            "   2.25092074]\n",
            " [-0.39242675 -0.48361547 -0.16087773 ... -0.30759583  0.42733126\n",
            "   0.47880119]\n",
            " [-0.39982927 -0.48361547 -0.86940196 ...  0.78447637  0.44807713\n",
            "  -0.41415936]\n",
            " ...\n",
            " [-0.20709507 -0.48361547  1.24588095 ... -1.71818909  0.37051949\n",
            "  -1.49344089]\n",
            " [-0.36698601 -0.48361547 -0.72093526 ... -0.48960787  0.39275481\n",
            "  -0.41829982]\n",
            " [-0.0889679  -0.48361547  1.24588095 ... -1.71818909 -1.21946544\n",
            "  -0.40449827]] \n",
            "\n",
            "[[ 1.55369355 -0.48361547  1.0283258  ...  0.78447637 -3.48459553\n",
            "   2.25092074]\n",
            " [-0.39242675 -0.48361547 -0.16087773 ... -0.30759583  0.42733126\n",
            "   0.47880119]\n",
            " [-0.39982927 -0.48361547 -0.86940196 ...  0.78447637  0.44807713\n",
            "  -0.41415936]\n",
            " ...\n",
            " [-0.20709507 -0.48361547  1.24588095 ... -1.71818909  0.37051949\n",
            "  -1.49344089]\n",
            " [-0.36698601 -0.48361547 -0.72093526 ... -0.48960787  0.39275481\n",
            "  -0.41829982]\n",
            " [-0.0889679  -0.48361547  1.24588095 ... -1.71818909 -1.21946544\n",
            "  -0.40449827]] \n",
            "\n"
          ],
          "name": "stdout"
        }
      ]
    },
    {
      "cell_type": "markdown",
      "metadata": {
        "id": "3hsNTOq1P27E",
        "colab_type": "text"
      },
      "source": [
        "![20200829_122359.png](data:image/png;base64,iVBORw0KGgoAAAANSUhEUgAAAsUAAAHECAIAAABeHcB3AAAAAXNSR0IArs4c6QAAAARnQU1BAACxjwv8YQUAAAAJcEhZcwAADsMAAA7DAcdvqGQAAF3ySURBVHhe7b29q2VXdrd7/oxKBZ00dGBnqtCCDlrg4D1QwRU4aIobNOIGF+GgEU4Omw4a8QaNIiMcvLArMKiDvsiBQZ0Y9gka1IFBHdiUgwpOoKACBxU40B3z+2vMteb62GfvqnqeQJy19lpzjjnmGL8xztrrlG5+BAAAANgG/QQAAABshX4CAAAAtkI/AQAAAFuhnwAAAICt0E8AAADAVugnAAAAYCv0EwAAALAV+gkAAADYylg/8ep4eyMcTv7Y8XB8Zs/e++Mx1t2lc7ozQ92+ePDHAzy8sEu5K5cyx7q7AAAA3hP27ydcjVfwxXhZP/H6378+/PLpB3aAJz/76Pnd8ZQ1D1P9hLf59vjKn3ConUHXZuHZUUannwAAAJig30/cH2w57SF1+uz9xMt/fu46iWney37i9be//ujJzZOPfv3ta38GAADgYpytn+iW3uF+4oevn5sLn3zyj9+9/h85fvPwL58/NWdqtvcTGSe77KV31bx88YkU+09evPTHhtdf/9KMITz//fYe4P3rJ16//OZ3n95+6DvMDz68/fR33z6YwHiXefl/JPCqQAIAuEa2vI+5qZ/w2N/+VV7/4VNzwS+/zuvld7/9a3MyDO7m0vuJP39hL31SmfcI/cSbPx2k73nyq2+KSv8fX31shrD84ivqg+GH77/+p8+ef/jFrFvf/PmLj5945xX85PnX/+WvuRCvv//9V5/98ukXA8/bVvHS5svTw5/e+BMAAFfJTD/x+k/Hwy8/evoTJ97mDYbbX33x9b+7Qql3Bnv1E2oJdyef/OY7d9jvJ15/8ytff6q67of11H2DDPm5Of/RV//hjx1L+omXX/1CLv24GuHlP9l24tmtHage//0k7EX1Xk7Dfx0/sZv55G8+//ovbjPfvP7z8dMP7d0fHk7/bc9dBP8YbOj7u5W4TvTDL3zQAwBcJVP9xJs/fm5k/K8+//YH/7vRm1fffPZXcurpl/8uR5P9hIbVXP2pRsvU84mStp+wXzdI/fnoI1NyisfFM/3Ef3z1kf3g0z8UDxfKu6aMd0578utvy18nv/vC+E2G/c52Gzd//Vuqw2A/EVrDv/q87hvCI5+nv/ven3l8HqGf8N+UPfn8jzyiAIDrZYd+olLSiX7i83+Tz0f7ibXvT7z5/p/cW5xPD/dvfvzzlx/ZzuLj3/jv2qefNKR+pexjhvsJKX7yeSP99wdbEj/95vWPL//RdixPPq86DvuXLB/91F538+SnH/2/3/hVPXz75a9uwyOiD57+/EvbiYRmLnvA8/rfvvz0b+0AP/n4sxfff+M2ourznh1f/nD6wv3JzE+ePv/dd3GZ2gUff/YH04q9/rcvntsXF5787JMv/q3otN78Jf4BzpOf/u2nX8ZPU6F98/2Lzz7+mdglF3wWvp5w3yvldLqKh68/sR9//E/td0TO2xKi7nf34JO705u/HD/zrnj6/LenwuIfTl/+6mPn5w8+fH74/fdxH6IHvv/zl5+IwU8Orul7uDdP6ewtT376N8+jB9pQT4GR79qTn378qy+/TUGa7Hz5h88+lmv+7mv74evvf394/jchBH720Wd/8Pe8+dfPzKn0pO37r559IO2yiXAAgOtgh+87Fv5mtuAu7e87bJcQcIKe+on/Pn3xC1faPvr8X732pq/ef/LpNz9M9hM/fPOprRlP7H8/+9c00XQXkuG+LjF9Q8abb39tLXD1wD8CKXoO98pFgesDXn3tHvVnuLpb9xMPv6985VaRLvDF7+effOK+JgjEl0M7Fzw9/K6yLX2V8+befSRV9qOPfu67Cv9oJ/QTt39XrsDX/uF+wr8X/OTwJ38ix76uKDiHR598Ujnt6W++874OX5188KEY7Lu3p//bPysKHvg4vKthTHr4Z9fP5PjY6PUTwS0VMXSDnb/42L9SY/bozXe/qW9Kge2bqs98D/qnL/xeD30BBwDwGGx5H3Mdy7qQ7N+f+ODpLw9f/yXVYKHuJ2z3cPuL+EtwQH7hfvaxU/N+Z/Dy+HemjEjtefkH11d8cgzjjPYTroj6khnwD1ridygvv/q5Pc4egYRK9mWoez++eZ1Ze/Pp1z+40/58dKNvF958ax8l3Tz5u6++s1e+/vNXvqZW/YSs6v/YX/RDZY2/9YYL/tr9Wvz6T1+EF0ifHuxv5K//9XP39OaTf3ZDui9x/vrzP4Z1uHdg3fJDP2Heb7B3n+5cvfzrL/5sL06rm/y+w/cT7ZsuhjCC+zT45Obp5//yYNz0Pw/f/NpN6i7wf2JzGx91+K3x/V9y0T9+b074B1rPb3/7zffO/z98+7n93io9Kmi/73hzOthr4l78+MN3X9nQqp+jWDvNCTORb7A++l0Igf8JW234zj7giq/d8HwCAK6O+X4iSHaXfmfw+uW/fPVZ83jjeO+q0Q60/cQsnc7g9be28Dz5u6MtNW988fvJ869sB9O5q8EVv1DCHcGB6aGF/8rj5nnsEsKZD27vjqf/SkXCP+iW0vF/f/nNX7L6UvUTf3Lfp3z05V/cp4bTnT1X9RM/T39acvoHe6Z7wcvj/7Jn0mN2X/O8w/2kLZ+Yx/eh0KbHPP9Vl97gmZF+Yvr5hPvFPfjk77OvkvJJw1cnDX5w74EnPXvevH79+ptf22viFrf9RNiL4pVb/9dGrpcq984Tusyf3B5enF7Wb5j6W/q5BgBwYc7WT/z3d1/8bafcyO9l/883sarNMlHL+/2E/mefgjLaf58Of2NNLf5S4OXXv3TP759LdZywoUDpJ9yfe+ikdwKiDZYnP/vkyz+5Ih7McPzk489+724pa5L2S7y3uWoXMtuqM80FYYq06rKf8JO2WDPaQtucCaE12U+EhmDq/QnfA7UGl5OGn1ucSa2LDA/ffhHfa/nJU98cx2vaZWp7UV6m2Sndyv3BvuvjePLT/+vL9G4L/QQAXD1bvu+Y0jj/55Effnr888Ob+I8OvXn98o8H++X0gpfVR2t5QbefULHfkrjH8jmvv/2HT+a+JSlxZSP/vsP/Ytohe1ogvP7LN1/9/fPwOCc9z3jz6nT87af2lUZB+x3X17D8d+I33/69PddtF/bqJ27jt0IFbaFtzgz1E7Eh6/99R2g1gsH/kI2XPxgIBtj3ghWUfsK/UnPrHlMJ9TXtMpW9iGa4k61jA//z+nvzSM99wZc/GfJfLcWvigAAro1zPZ9wsqv9Tvnjt/aJ8fiXFI/QT8wybEP9Pqb/g5HmrznCFxm+Qrz+y3cvw7cZb/70hf2uxXz05tX339s3AQw/fG3/gta9h1H2E+EVDfN9jb08/S1Mt12ozzQXzPUTr79x9qQXBd68/u7Fp1+6eFjQT9iOJDadDfFl1Sd/e/jWfxn05uH+y+eu8frwEN44CAY/+fiLe7sB9YsL/q92bz78/JtX9p7/eSMN7uf+dRDFRaE5eO5Ovf73+q2UuKhb91aKrKJ5lyWZ4f8dM7WfeP39n1MIfPe/7YpjY/rmWxsuMa54fwIAro7hfiIX2QHi84mv7l9e//OJWYZt8E/g/UsDsbS0N8aP7L9U4StZjv33i0LFzXhi/kol1SS/L+1fB3z8sfu1Pmzc/v2E7LL7dz4KwosOA/2E/4Nkz9RTitf/+nn2XUDiyd98/m14ByUZ/OHT0hcffPovvg6rf3kRXi/V+on8XzUVnnzySeH2tI8OtzT97zuefPLVf7iYV/sJ79uc+Icn0taYSeLTLP6+AwCujx2eT+ii9ua7Lyfen1jyf52YNyAvAB5FnUuWtRrjPY2vkfZvN17/3j010B9T548uXv7zp7fhHx6w/2eKb9wbea/vv3ju/w7TvM36/O7of+Wt+wnhdfhnHm4++MVnx7+8mWsXdugnhIc/fvnps+zfn/hj+GignzBR8jv//c6Tn2VfEqk8nI53zz/yX/p88PTnzw+/d/8wSSQZbP5dB/8vXmT/JIYl/3c+3L8/ET9W+gm5/t++MP8WRcerwps/f+n+cQ6Z7Yvw0uib//om/isX5t/ASBsnqP3Ey69/dZtW9+zTL//FPWkyuFDJnvbxfAIAro6z9ROGff6+4+3qJ8L3/U8v/VV3eO0g/2OHdxy1Tr/9uHc4/HMpAIArZcv7mNDB/dMOj/s//Tr95qPPXnznv4D/4fuv/b+78F79I83vZD/hvsnifzEKANcO/cRZcN+gP707PVox/+437lF5zpOPfvN4BlwB72A/4QIp/LMoAADXC/3EO8Pr02/D35o++elHvzzs+O+GvSW8o993AAC8DdBPAAAAwFboJwAAAGAr9BMAAACwFfoJAAAA2Ar9BAAAAGyFfgIAAAC2Qj8BAAAAW6GfAAAAgK3QTwAAAMBW6CcAAABgK/QTAAAAsBX6CQAAANgK/QQAAABshX4CAAAAtkI/AQAAAFuhnwAAAICt0E8AAADAVugnAAAAYCv0EwAAALAV+gkAAADYCv0EAAAAbIV+AgAAALZCPwEAAABboZ8AAACArdBPAAAAwFboJwAAAGAr9BMAAACwFfoJAAAA2Ar9BAAAAGyFfgIAAAC2Qj9xVh6Oz26Pr/zBBA8vbm9fPPiDJSy5sWPM/eHm2TEfQsa8uTv5g0lWmw0AAO8Yb10/cTrcDFXox0aqsic3ryrhYnzFwdXtucLc3uiHrW98dbz1F2T45mB1PyE3+pEih3v7Af0EAABYLtBPnO58NUqkYuzra5/z9BPJgJtOeZ6c1NweLM9/nn4+YQYf7CcqxAlzN4oZ9TOGwhjZBQ1zgdZP6KugnwAAAMfj9hOhbBf9RFaATSUrf1duOEc/8XC8i5OaJwHePFPvw1xFl1Bhfn3PVySlOlTZ8/QTcmPwUu9G2y64wfNnG0Ouo58AAIClPGY/4VuB6vlEeTjbLpyjnyiI1bQslnXTkCEmla1GejZwln4iv1i/0XQ/t4e72bbALCoSVxc9EKCfAACAGab6CVNXPL1fzdcw3UBU3UaDu17+65m8eA2hRtYNRL92av2Ef35QVeJkdiD1E/7EzOMZoZiuvdGe8ZNmTymEyhizwGxFxja33jhm+HSqn3BXDpgNAADvMv1+4tXxEIqNKUvFL6yJVFESM81H008U18unk7/yupIcbsm/kqhpi/f0yA65yw1YF1GzUt0J9RL6zyfi4DUy+IBtgmkCJrocux2FMeZMt7mpr3RDmVt4PgEAAEsY+74jFcgd2NxP1GV+t5JmupNo23g/Udf4bAltCd9SmM1E1WVLll+vqHS12OZX0ay0vjGyp/MBAOBtZvD7jj0faDf9RF3k8trccK5+QuYtf7Ovu4Spicz7CuHe/Oc9+wlT79trJm60K8op+jaLWWMkLtbsO/0EAAAsodtPFL+8phcCakztqWnrVkHZMVRlu1txA0r/0SlppgBXTJXe5tlDOXLdXtSYNsJRNSVVP6Egw84UZjP4oopurK3P9wep0PoJb2qGGYp+AgAAHL1+Ii+ftgqe6/lE8Qt9qmTZn0SWlMZk925AxtQGyV/OkInWeKDqJ7qsLsz6jR3v1Z7fMK+jvF1rYgAA4P2g/32HKdWOw2llNdVRq5qfKm8UmgcGFqn9t8cX0bahaj2DfW2ioOhXHOu6lgv1E2ppN2upjaGfAACAXRh7H/PRkUJV9RxvJ5fqJwzmS5wcrSOU2/2nNUP902qzAQDgHeM6+wkpw9u/xQAAAIBH4kqfTwAAAMBbBP0EAAAAbIV+AgAAALZCPwEAAABboZ8AAACArdBPAAAAwFboJwAAAGAr9BMAAACwFfoJAAAA2Ar9BAAAAGyFfgIAAAC2Qj8BAAAAW6GfAAAAgK3QTwAAAMBW6CcAAABgK/QTAAAAsBX6CQAAANgK/QQAAABshX4CAAAAtkI/AQAAAFuhnwAAAICt0E/o/Od//qf/CQAAJkEwQaCf0CE9AAAGQTBBoJ/QIT0AAAZBMEGgn9AhPQAABkEwQaCf0CE9AAAGQTBBoJ/QIT0AAAZBMEGgn9AhPQAABkEwQaCf0CE9AAAGQTBBoJ/QIT0AAAZBMEGgn9AhPQAABkEwQaCf0CE9AAAGQTBBoJ/QIT0AAAZBMEGgn9AhPQAABkEwQaCf0CE9AAAGQTBBoJ/Quc70eHhxe3Nzc/viwR+Pse4uAIBB3qp+4nQQQbw5nPwh7MYe/cS93R3P7fGVP/1WM5oexdotz47nq9v0EwBwhawWzMO9/+QRoZ84F1v7idNdEROPVrrOPdGy9LgLkfnqaMy6dFNFAwEAj8lKwbwM9BPnYls/YYOjqlu2wzh7Qb3SfkJwLcU5n1LMQj8BAI8J/QQIm/oJvXXImgz/9OLObp8lf7rlyp7Dnw/F+GQ/ciezy/xcbtiAP5mPlpXzEDpa6zPBhvR4OD4zUwW3uENHFsHuRkM6ma/Lrr02Pm8Uer5tnVO1F9OOOsTbL9oSAcBbxNZfwIJ8CV6gnP4knUwXaNKXyawfvBG0pLRVP+EOLYjeNrb0E24Lmy4vixhf2/wmFYU2L3LuZxMuIbYcckY+CoWwCIL89uYwvzKLlez6Wba023bVbpn5kjN3FXedDuYHnw8+Z14dj+aH2vh8mYO+rQ5nHeUMqEYAAJhgmWAmMvHJGgivPPKzF8lC37z0uY/CgFa4chX1guaHKh4bt7rXmAGr2NJP5DuRkRVL30i6GllUqfLeeIvvJ3zcVGR1eqIuGtyneVRFGwbZp58oP03ecOfzwNXGaY3PV933beWc/HDWUc2OAADMsUUwDVb5b+8ORo802cmUqpS+olGY0Lq8I0kflVJZdC2wgu3PJxrv24hxO5R3AELavPI5hEfCqAwOg4u/hB+tiIPmrn5UjbIhPZxbUrBWZMXbYVZUhnWkNj6/rOvb8uficNxR9BMAMMzWfiJoUSH+TZlY3E+k0fR+wg1VkkQVlnLe9zGLjQ+bnQpqHjqOquD5ePJFLh85ixvzSYwPRz1R9tEg69MjP6P5J8OFuODfkGjSTF+XG7Dv28o5+eGwo3R7AAAUdnk+cfPs1vzXf+oUqRB8p2+F9E33E0nr0q95+Uf5sLCdbf1EtbXFdhrcp2V8+A12H2VX2rhR+wl36HuL0DyWpboMCzuRH6SKqlFWpoc7jPb72YPNcmg/EmsLU4155ZX3B3tBbXzu3gnfqs5xh6OO6qU9AEDDtn4iiU8mVrkiuZ+9cC3pJ8JlxbzZyL6sBN2TQ0RvA1v7CcFtYSDWToOveYmwbZb8UzU4hDT4s+PRXB/Hj7/c+zOFGXVFL+YdYVl6ZMQqHvBhbYlmROMF9aRzSG18li3Tvi2ck99lPhtxFP0EAAyzQTD/P3fKl4CgXUav0sWHo1Utd82ifiKR1KzUOt9SWLLSAyvYoZ+YoNj4t4rR9Lgcb69vAeAd4/oEs/5lDB4B+gkd+gkAgEHoJ0Cgn9ChnwAAGIR+AoTz9hNvL9ffTwAAXAkIJgj0EzqkBwDAIAgmCPQTOqQHAMAgCCYI9BM6pAcAwCAIJgj0EzqkBwDAIAgmCPQTOqQHAMAgCCYI9BM6pAcAwCAIJgj0EzqkBwDAIAgmCPQTOqQHAMAgCCYI9BM6pAcAwCAIJgj0EzqkBwDAIAgmCN1+QuIDAAAAYBZpG3g+oeO8AwAAsyCYINBP6JAeAACDIJgg0E/okB4AAIMgmCDQT+iQHgAAgyCYINBP6JAeAACDIJgg0E/okB4AAIMgmCDQT+iQHgAAgyCYINBP6JAeAACDIJgg0E/okB4AAIMgmCDQT+iQHgAAgyCYINBP6JAeAACDIJgg0E/okB4AAIMgmCDQT+iQHgAAgyCYINBP6JAej8/Di9ubu5M/OA+nu5vDvf95Mw/HZ3a0+8O5zT47soRnxwd/sAfNgLK5ty+GZuiGgTbmoOfHZ4d1IJgg0E/okB5nRep6JAp9XR5eHW/9JRoT9a8qPGacgxt3sp84HcJlKtHmMMKifkIGz9EnMh5QKcfvXmaZKJy52y3BjE4/0U40XZWb8R23x1dtRTfeq3AX1GEQme8nlDHdZjWzw868K4IZkvo9RWTKZOtq6Cd06CfOh6k6WRmQw8lCUoR4t9jkrOonzMj9epnNG+0Z7ifkgtSFWNozfbpLLpa5XAfFLfH2ymOWapsc6skRZBVNP6ErV7VeM6OC71FKY6bGpJ84K/QT7wT0E+eBfuJsNKIfCptWOMOv9f58ddihqo7lcw5NLOyw5hY3fvvwoLA5FKcgPTLdlD0dheqVcJV2fLnd4keuDucpdyHcnk+0sp8ovR0vbip6EwYBLQx0miunxqSfOCv0E+8E9BPngX7ifJQ1ySSw0/qqPJjDENz2Z4NLdXvY/24iVseE+nwidCf1UO15OZNdI+MbO4P0+MMenRTNnppExLyBsmfmDb2I/TmZag+njHGYBRYTyRKa5kaIbo/MmWdGzjxcbm4xgnzU7yeKK4W4TEMc31xZLHZqzDnLYRNvh2BK0s1kh4m0LIDfKSQL5pbWEath6Cd06CfOSVEeYkloykNB2QpMUlXHrHIvGKSg6ScCZrSZfqKjUFoJN52WTt15ZJS2zeA830hGp59YTqVHZrrYT5QVXT7q9xN1l5D3FqllMVdawqeTYzr2WSbULBFMF4SGPZo8Ew+O+dFG+4n1Fp7u5upxeoA3d+UIabR5ZZMsmLvG5W9y6eyYFdfUT2QyHdjD46ugnzg7WZl3FIVECYaWTh2tqmOWcsLSDLFIgpX9hLHTSU887GPXUszbnhmm33NkqPbYSXV9lI8yj62fQii9HaeTzS2nTpKdYZxchIGhdH42VHOljNntJ5YWBljEsGCafY97cXqhtnepnkV623e6C7FhAm+glk+nqg/LOI6xZGGeyi19MwojT0d1UTZPS3oDPhzvggPNXR09DEgWzK3FeX6JS0t4PqFDP3EeFKXwPDue6vKwFiUhfYbkzyeWVM2iUIXiZKTHjCbTzZtdLbzO/E0l/F1HnJOVkyTx9BPXw6hglp3rrnR3v8k+i55NIakjneyeT9jOXWeLQ1ljp59Q9LDXJMkghQ+XJg79hA79xOPTlAd7RmemE+8h+dxJJKGfkIVtMeUW9ROOqSmWYKbWmbEkaa6sKLhCt6qrmHOL7e2aLkyN2GkbVKw3XtAETFpdhVxJP3FWBgWz2bLtSPQm+tltGXs+UQyyILsdUR9amsG3Yx4hRHrzerKU71EbvzRx+L5Dh37irKh1fVhrhqqyOsXqfkKI9TWMENRhv35CpthU9uYtSRU3E5chf3oWy6tHFSaz4/XUYsyoE5qAMTvSYNarzg47suD5xHz8mBio0LfPVNMYPwPVenk/0cTYDNPvT0zqT2C8DsqV6WGPOG2mXMpa5mavB1mqSDyf0KGfOCtDedVlqP4tn2Jo2Iz5fkJsmCe7d2n21syLdVFxvX+sfrXzdo2fk1fbJSg0U3QKQKGSno0NAf3EuRkWTNMrxL3ovD8xTBYqLupmUn6sn0g9rulXZor0MkyuxQE7708MY5YclmOzdZd+Intn2Vi7SBLpJzrQT5yV5cU+563pJ5byKP2EFx0vLv43PFl7LUar92i8eNsaUPm8qDeR8TFVNt4OsywRTFu0LBtEwJH649sXJ709XYZN6hfpS4TNAzaYIu1YVqo1ck8qKbwcO8iLOOriAekndOgnzortpjWG3tWSoB/qJ3S6UwwNm3GWfqLDmGFD/YQfUbC6GUeu9Wi1MbZL0FA9n+TVoyp4d8wxz9BPnBsEEwT6CR3SAwBgEAQTBPoJHdIDAGAQBBME+gkd0gMAYBAEEwT6CR3SAwBgEAQTBPoJHdIDAGAQBBME+gkd0gMAYBAEEwT6CR3SAwBgEAQTBPoJHdIDAGAQBBME+gkd0gMAYBAEEwT6CR3SAwBgEAQTBPoJHdIDAGAQBBME+gkd0gMAYBAEEwT6CR3SAwBgEAQThG4/IfEBAAAAMIu0DTyf0HHeAQCAWRBMEOgndEgPAIBBEEwQ6Cd0SA8AgEEQTBDoJ3RIDwCAQRBMEOgndEgPAIBBEEwQ6Cd0SA8AgEEQTBDoJ3RIDwCAQRBMEOgndEgPAIBBEEwQ6Cd0SA8AgEEQTBDoJ3RIDwCAQRBMEOgndEgPAIBBEEwQ6Cd0SA8AgEEQTBDoJ3RIDwCAQRBMEOgndK4+PU6Hm9vjK39wHh6Oz3acwhv88OL29sWDP/dWIm65Odz7g3Nxf7h5dmzd1Hhv3z3q8Op4qxnTcrq7Offmigdu7k7+YC/E2/uNGSyUgD/MDdrG0shdjkdQgAXQT4BAP6FzRekhan4TiVpTq4lI+QQT9a8W6FTJJmvVTI0xQmmJIyzoJ4xJGZ3rZUCVyubeZY6+dhduNwQzev1EO9FsYVBs87Ns6SfkXp3+bhoaY6IB1V5r4zurlH6icWNg2hhDHtJx2Dpcu+NbCh/KAvNJs32c7CfEjKn2MXojjBAslOk6AdCzWb1L8ba7oFrOhaGfAIF+Quda0sNIT6Ya5nBKTUq1HVKcWqBFv7wKT/UTTut7OpvqSmNwUxErbCNSlIH2zAS9JWfFQ0hrHCUrKuVQjmqbHOrJgv4GFRbKZRrmgqk9Khm/0mC36WQ875h0V9zutO8zzBtjAiwLyzhyHa6ewpMj11gbwj6Kt5XrLWYT+8tP4d1aKNOVncEQzV1d26rlXBj6CRDoJ3SuJT0aNRHZsiKoqIkRMoM/Xx32qMVXZkxo9zqFlVu6UltoYmWwTDdVcoo6GumVcJXWZnO7wY9cHQ5Q7EK4PZ/IGNPMq54s6JcE3Q8tYsz0FJHxK4syaZDDSWPCFqeamliwTTmNtcGGOlwN4kaLP18dRipvx3201BcbZDnOTvtDE4HWmLTe2kKZbqqfcGMGomHNXY0CBKrlXBj6CRCuo5+QVNRz5mJc6fMJU+yd3FRqIoeNnvoaYA4nSriRvwp/Y6npsTBUpaU9H4TVETTXG1xIcEPQ4ppOoZrSa4/xWKgE9mfBD2UO5xXZ+iefyNShtrQktydmzfM+URDbKj/n46ePxruE4StTyKkzKsjuTPUTk/f2MOU2RYLxuRu5ihC7O35d9meDM6bZuHaDssDIxoyVvtrl9nxcuEXGN9MFC/2hirkmd4sJRXdxNDLcW9qW0Vx5US4gmBJaumfeby7qFvoJnStqt43WRGJJEDXpl4clIh7kL5Aq2XitKilnjyrvjJfDiX4imz1HK+Eyix+2ZmL8mdkrnOfryNSMWUm5idWKCj+Y4hEnzarR+B4NXWlLZlOf1HDKTsayGitucvKqbbIYPyfCLtThWlIW+IoqZbJ97NbsGZp+ImBGk8PJfiKf0URa7CfKu7q2Vcu5MPsJZtr3mQiR0Fq1axlpyxbIguF0UGSqxKmHYY+GL+XR3KYPuWX1wme44n4i7Ufk8fLn2h7fiXKVG5+rSam8HXpxo0lbZJXDZTezZAsl3BscDnvYtRS52p4ZJiXhBOoanUtVITAfpSqyfgqhXxJkF/Il10VFbHA3OjsNSh0tBpG5pnTNtQL9YtyQdjk5pInSzRj3FmYX4apIREu8vfJ2cp1hXoIVmn7CzBUsHHJ4IDeyvEtbY55QV8JOgmk2JYbQ6cVk1ktsKLsmbqnpxeTpLrjahNlCZ1YZWmF2LQ1+1NLKxElNJ2AK807H6RTT3VKwaeGTXLafUPZ+XWLvzjX0E1rAeQ73u6mJMkuqE3GKUnw7hLwtNDForjdYppstOZVJ9fUmB2bZM0nORn8TK7WSwyIv4tbke9RQDFJsShejgxqtdMouNHFS9BPrt0lM7fDsePLVegXKsL4byN3b80CB92QRzMEhJnrNaGMOf1fYRzCLiO2hhcfWqtHLo34oBrQW3Kildn4lY236OrdMCshy+L5D59qeTzRI9FRx0A39gVhUmQy1VE4UUgKYouJU1Rs80k84xq+coVsh5hIplZn0eFO3qls7p6doNzFQC6vZ3KhQpmL5Tyf3aEidB1D3Wjs5JnybCNU6Yc7oDJfztNEKoSHWSOGd1h4slC2bNqCXsOpdpkQV7LKz+7GLYLabO4U4f/xinWILlnUAU8nVz+s1LOxOhtyyYeGT8H2HzhX1E5pwj4espOiAxKtlaX0/4XKg3DJv8Jg9hpkrxYDxgqEwuTpHKjNz/YTO7BRFVgfsLYpaZRenjyanmJK8DkrSWdpxtABQ+gmzTSpzzrejtUo3XHLEXVp4pD3NUE8GpvoJIXosjBAs7Bgwg3qX2frKsWaWTfG/M7s9nxjaXIuElnJxliYBPWELATF6taSsTr8/MaAtfgcr9A2dicAK3S0ZmxY+A88ndK6+nxhlrP4NJUDBYqskz80UXXtMlM+SGVlkxQoGlpwXV79Yk35K2neNX+jViEw95N5yFUt92DI3ryaCHlElpZ/QGYq3ZTJa0ynniyqWZakZxkVmio4BCaXyWZq79E0xobhjJdjIToJpfBJDaNX7E8NkXnVRvaMz7YBhHzvvTyxATE1pu/n9iXMu/Dr6ieuDfmKGxVbN9RNLMbVzWq+nGVhyqj3+1xFXL00SVhm7bY8U9BLSsnzjphmdV0fpJ8w2qcyb/R70E4MBXFRZh60EW+J/Z/YTTLNYx5m7JdOQOdw/3bbvdHaDLLsog8StZ/umn3Hh9BM619VP+N2vGYmDsfqdIqymJ75X0U/ojI0/1k9Enh2PWbEMNSOw1ZiGC/YTHUaCTe8n1uqpjKYzNGCnWncX2HXjOfsJHW26JkN3qVL7cUWCCZeDfkKH9ADYgd07LbhKEEwQ6Cd0SA8AgEEQTBDoJ3RIDwCAQRBMEOgndEgPAIBBEEwQ6Cd0SA8AgEEQTBDoJ3RIDwCAQRBMEOgndEgPAIBBEEwQ6Cd0SA8AgEEQTBDoJ3RIDwCAQRBMEOgndEgPAIBBEEwQ6Cd0SA8AgEEQTBDoJ3RIDwCAQRBMEOgndEgPAIBBEEwQuv2ExAcAAADALNI28HxCx3kHAABmQTBBoJ/QIT0AAAZBMEGgn9AhPQAABkEwQaCf0CE9AAAGQTBBoJ/QIT0AAAZBMEGgn9AhPQAABkEwQaCf0CE9AAAGQTBBoJ/QIT0AAAZBMEGgn9AhPQAABkEwQaCf0CE9AAAGQTBBoJ/QIT0AAAZBMEGgn9AhPQAABkEwQaCf0CE9AAAGQTBBoJ/Qufr0OB1ubo+v/MF5eDg+23EKb/DDi9vbFw/+3BT7zn4RZAk3h3t/cAa8i053Z53lxx9fHW+fHUf2TCwZ29z1SPzc3J38wV7cH3YcM1goAX+YG7SNkJG7HI+gAAugnwCBfkLnitJD1PwmErWmVhOR8gkm6k0t0KKtvnhMVvSZGmOE0hJHmOwnlNEmZw8Y4zM6xUymVqnG713m6Kt8sUGGYEZbLRztRNMlxLtCFnu49z/bHiL/2V9qkB3UmfZnY1XckWp3tPHdkpV+onFOYNoYQx7Scdg6XLvjW4qg8hEYyHZnsp+o3VsRvRFGCBbKdJ1t7dms3qV4211QLefC0E+AQD+hcy3pYaQnUw1zOKUmpdoOKU4t0KJfXoV9uVJxWt/T2VRXGoNlurrkCHLZ4n7C1IOyYLRnJug5JyszQvLGKFn5KYdyVBvqUE8mvCvEdUP9hI6/eBC7TSfjT8ekE+J2p32fYd4YGSoPyzhyHa6eYjdHrrE2BL9N9BNma/rLT+HdWijTlZ3BEM1dXdt6AXwZ6CdAoJ/QuZb0aNREZMuKoKImRsgM/nx12KMWX5kxod3rFFZu6UptoYmVwTLdPv2EXumzIhFxdiq045vbDX7k6nCAYr/C7flExphmXvVkwrtCXPdI/YSxJ6tqyu4URAPkh3pzFzg/p7E22FCHq0FCy+LPV4eRKmVkCnedpb7YIMtxdtofFCcXwVxbWGRBixszEA1r7qKfgLcH+gmdK30+YYq9k5tKTeSw0VNfA8yhUsIDRv4q/I2lpsfCUJWW9nwQVkfQXG9wIcGRYl2RKbkMql3TKWlTyu4xNoSaYX82FrihzOGUMQ7ryXwiU7G0Sp+v0TFtnt8IGf8x+okUcpmd1aaXRAN050/e20OGyvbXeNKNXO279blfl/3Z4IxptqN1e/Cb7G82ppk6/zTQno8Lt8j4ZrpgoT9UMdfkblHiP9xb2pbRXHlR6CdAoJ/QuaL0CLXNEkuCqEm/PCwR8SB/AZnO3ztcgSqafsLbbg2Ww6afMNVCKOV7bvZkZ44ZqioDtkDqNJYkNDv7uD2qdV8zZg3eP4LtIdSf/aV95OL53bQls6lPajhlJ2NZjRU3uW6V8y1pdYbg2zpcS8oCX1GljBnfX9yt2TM0/UTAjCaHk/1EPqOJn9hPlHd1bZtUgEfnTIIZI2rdBs2RtmxBshtOB0V8SpwmGPZo+FIerd30LBMH5GIlV9lPpJ2IPHbmXFu7LXlVRnyuJqXydugljCZtkVVuL8tPKMzeYKVOOzGV/xYpOlv/7KrrW2Z+k+7SL3sZqj3O+apkmI9S6m6awrtu2fOJwqVNoSpxwr1AaNIup2U2UboZ47TC7CJcFaFoibdXBdiYnVhVrkrPew8HC4ccHsiNLO/S1pgn1JVwDsE0Lgr78vDiOOHMDHFLTS8mT3fB1SbMFjqz1qsSs2tp8KOWViZOajoBU5h3Oq5JsYfjXbA2t21veD6hcw39hBZwnsP9bmqizJLqRJyiFN8OIW8LTQya6w2W6cr0NvlvLzBTZB/ls3epjK+FY30Jvyq8K2Sx5+snPFr1MrTSWfQT3odiSdqC9c43IaHz7Hjy1XoFyrDeb7LqVT1KEczBISYmB/qJd4z9BdPEz6M5sKc2/VAMaKkno3VSchVFWu3AGSPz8v2EOCug7uhluLbnEw0SE5W7uqG/NhZ7OWZJ5UQhJUASBW9wLcFiXyoPZgkhDydnLynG3EK3lsxZkgpSehCqW+WWrDAxhXeFDLihn9iAutfayb2FTyFU64Q5ozMsmnk/0dB1r5DCO609WDir2r2EVe+SvfYfe3bZ2f3YXzAHojff+lX1u9iCZSNMmee1bifM1s/aJuEX6ExdKM+O5hXwfYfOFfUTqpoPh6yk3IDE+8pUop4M6FZFovzFEbzBuT0mB2odj+uanL1kZo2Z6K9iwJJUkOb6CZ3pKaIzRVaqn81d3YI3oMg1SupZ2nG0AIg1NVGoWM785qrrMiWkX/szJJC0TU87laGeDHTd64geCyMECzsGzKDeJSdrx5pZNkX1zpzl+cTS6DUYX1XoaVjIgkmrJf3E9PsT0+nssTtYoW/oTASOUEiBuGjevHXwfYfO1fcTo4xVtaEEKFhslQ/iMXuEvkndEpWT3VsIxwoGnJOXYe8Wo1CKQHSNX+h/gzcsyc1Sz7QUuqOgiaBHbFD6CZ2heNsmo2phnmkdVJaaYVw01E8olc/S3KVvigmwrWVmP84gmDaDUpc2+P7EMJlXXVTv6Ew7YNjHzvsTCzDyEvNlzfsTISYNEs+r1GYI+gkd+okZFlu1Xz+xlMfpJ3y6+l9cXGXN09izbTdLvGHb6m6JXrpGcav2B45uizO/udvW9Vb0E4NhaTqPyrFmlk1RvTPnEUzbUrhwWV5E58gHN/90277Nmd0gyy75bloKx7pNNyHk2PHduxb6CZ3r6id8JNSMJMBY/U6pVdMT37esn9DZzZKU7UY+jllZDdUlsNWYHG/Yzv1Eh5Ep9H5irZ7KaDpDA3aqdXeB3S0+Zz+ho03XZOguVWo/rkgw4XLQT+iQHgA7sGf/BNcLggkC/YQO6QEAMAiCCQL9hA7pAQAwCIIJAv2EDukBADAIggkC/YQO6QEAMAiCCQL9hA7pAQAwCIIJAv2EDukBADAIggkC/YQO6QEAMAiCCQL9hA7pAQAwCIIJAv2EDukBADAIggkC/YQO6QEAMAiCCQL9hA7pAQAwCIIJAv2EDukBADAIgglCt5+Q+AAAAACYRdoGnk/oOO8AAMAsCCYI9BM6pAcAwCAIJgj0EzqkBwDAIAgmCPQTOqQHAMAgCCYI9BM6pAcAwCAIJgj0EzqkBwDAIAgmCPQTOqQHAMAgCCYI9BM6pAcAwCAIJgj0EzqkBwDAIAgmCPQTOqQHAMAgCCYI9BM6pAcAwCAIJgj0EzqkBwDAIAgmCPQTOqQHAMAgCCYI9BM6V58ep8PN7fGVPzgPD8dnO07hDX54cXv74sGfeysRt9wc7v3BI9N4b9896vDqePvsOLJnp7ubc2+ueODm7uQP9uL+sOOYwUIJ+MPcoG0sjdzleAQFWAD9BAj0EzpXlB6i5jeRqDW1moiUTzBR/2qBFm31xWOyVs3UGCOUljjCgn7CmJTRuV4GVKls7l3m6Gt34XZDMKPXT7QTjRSGrnnqljXe0/ZIdlCnv5uGxpK4v9Vea+M7q5R+onFjYNoYQx7Scdg6XLvjW4oQlQXmk2b7ONlPiBkT6ZO8EUYIFsp0nQDo2azepXjbXVAt58LQT4BwHf3E/aGWoUtzLelhpCdTDXM4pSal2g4pTi3Qol8D/YTT+p7OprrSGNxUxArbiBRloD0zQW/JWfEQ0hpHyYpKOZSj2iaHenKMsobJojTMEqb2qGT8SoPdppPxvGPSXXG7077PMG+MDJWHZRy5DldPse8j11gbgpMn+gmzif3lp/BuLZTpys5giOaurm3Vci7M5QTzdFiYy+8ul3fFpfsJly33B0ns0x3p0dCoiciWFUFFTYyQGfz56rBHLb4yY0K71yms3NKV2kITK4NluqmSI7MrA/ZKuEprs7nd4EeuDgcodiHcnk9kjGnmVU92UZ02ixgzOMX4lUWZNMjhpK+itbGmJhZsU05jbbChDleDuM7iz1eHER+BgbiPlvpigyzH2Wl/UHakCObawmJDW9yYgWhYc1ejAIFqORfmEoLpfHU6iH+u7zfSx+VaXHEFzydCARsT0EfiSp9PGF85uanURA4bPfU1wBxORJiRvwp/Y6npsTBUpaU9H4TVETTXG1xIcEPQ4ppOoZrSa4+NLh9aIdL8UOZwXpGtf/KJTB3SYjW4PTFgXkJuj9ertT8bP7lXvVJl+MoUcuqMCrI7U/3E5L09TLlNkWB87kauIsTujl+X/dngjGk2rt2gLDCyMWOlr3a5PR8XbvE7GCzMN7TGXJO7pchrP4m/t7Qto7nyolxIMIMTdBe9V1yFK67h+47T4dnhMCqLj8S19BNCqIKW6CWJnr7Hloh4kL+ATOfvHa9VJU0/4W23BsvhRD+RzZ5jykkl7rbs6UyMPzN7hfN8nZ+aMTsgGzpRGIxYxEmzajS+R0NX2pLZmKGGU3YyltVYcZOTV22Txfg5EXahDteSssBXVCmT7WO3Zs/Q9BMBM9rUhtarMJHmLm7u6tpWLefCnEcwUwz0ouV0d3u4W5LUBWnLFo4w8M2CUw/DRF4Pk/Kou+lzrli92AVcvJ8IMpdrVtqJyGNnzhX1ExZRrjIIcjUplbdDL4Y0aYuscntZfkIJ9waHwx52LUWutmeG6RezDHWNzqWqEJiPUhVZPcWiG+uiIja4j5ydBqWOyl3Jb+L/KV1zrUC/GDekXU4OaaJ0M8ZLhdlFuCpC0RJvz1NGSK4z6DV7hqafMHMFC4ccHsiNLO/S1pgn1JVwBsE0GxTD6fRCUYAgJjEdBHFLTS8mT3fB1SbMFjqzSK4Gs2tp8KOWViZOajoBU5h3OmrL0VxRsGmxw1zH+5jXxzX0E1rAeQ73u6mJMkuqE3GKUnw7hLwtNDForjc4xP0UlUn19SYfZjlXwlwGkaduP9FfaSF5xaZ00aqXoZVO2YUmTop+Yv02KSXB8+x48tV6BcqwvhvI3dvzQIH3ZBHMwSEmegf6iXeM/QWziN5z08ujfigGtBbcqKV2fiV7t+mTorEN+gmda3s+0SCBXsVEN/TXxuJk2KVyopASwBQVp6re4JF+wjF+5QzdCjGXVKnMpMebulXd2jmbt2rVaT1vNjcqlKlYTS1X2EuR1b3WTu4tfAqhWifMGZ3hcp42WiE0xBopvNPag4Xqzub0Ela9y5Sogl12dj92F8x2o89AsQXLOoCp5JJhZxN/HLP1e3QnGxY7zFX2E0oB2HF7hriifkJV8+GQlbQckHi1LE3WKt2qSJS/OII3eMwew8yVmZSvYnJ1jvF+QmdgCuOWdhXqjZkcJM9PTrGin1BSz9KOM9hPmG1SmfWMXsiHy4zq2HxPM9STgal+QogeCyMECzsGzKDeZba+cqyZZVP878xZnk8MbXRFliYBPWELATF6taTETr8/MZL4bgcr9A2dicARNi12ATyf0Ln6fmKUsfo3lAAFi62SPDdTdO3pFp6czMgiQ1YwsOS8uPrFmlRU0r5r/KxXFfmzDG5HuYqlPmyRJU9uqyaCHlEopZ/QGYq3bTKqFuY1VWqpGcZFQ/1Eb+ubu/RNMaF4pqqwgjMIpvFPDCf1/YlNZF51Ub2jM+2AYR87708swAhRzBf9/YkZzrnYHPoJHfqJGRZbJepgphizZ4DH6Sd87fG/jrh6aRKyqknr90itOuPbsXzjptFL1yhKP9FtcebNfg/6icEAlitrx9qqsCX+d+Y8gmkW7jhD/TMNmcP90237TmE3yLIhoRKmpXCs2/TzLjZCP6FzXf2Ej4SakZgYq98p2mp64nsV/YTO2PgDlTjlsBGFY1YsQ80IrDcmKWbJ5fqJDiPBpvcTa/VURtMZGrBTrbsL7LrxnP2EjjZdk6G7VKn9uCLBhMtBP6FDegDswNa2D94OEEwQ6Cd0SA8AgEEQTBDoJ3RIDwCAQRBMEOgndEgPAIBBEEwQ6Cd0SA8AgEEQTBDoJ3RIDwCAQRBMEOgndEgPAIBBEEwQ6Cd0SA8AgEEQTBDoJ3RIDwCAQRBMEOgndEgPAIBBEEwQ6Cd0SA8AgEEQTBDoJ3RIDwCAQRBMEOgndEgPAIBBEEwQuv2ExAcAAADALNI28HxCx3kHAABmQTBBoJ/QIT0AAAZBMEGgn9AhPQAABkEwQaCf0CE9AAAGQTBBoJ/QIT0AAAZBMEGgn9AhPQAABkEwQaCf0CE9AAAGQTBBoJ/QIT0AAAZBMEGgn9AhPQAABkEwQaCf0CE9AAAGQTBBoJ/QIT0AAAZBMEGgn9AhPQAABkEwQaCf0CE9AAAGQTBBoJ/Quab0OB1ubo+v/MF5eDg+23EKb/DDi9vbFw/+3BT7zn4RZAk3h3t/cB6uzEuvjrfPjiO7e7q7GQuD9Uik3dyd/MFe3B92HDNYKKlxmBu0jaWRuxyPoBU69BMg0E/oXCY9RKNvIlFBao0QgZ5goqrVsiuK6UvCZK2aqRxG/ixxhMl+QhltqFIa4zM6JUqmVqnG713m6Gt3sUGGYEZbAxztRHOFwUyhXqN6ScYfqzSy1zrTnm/sj3tX7aM2vnOO0k80bgzMh0Ee/HHYOrC741uK8JMF5pNm+zjZT4gZU+1j9EYYYb6f6Nms3qV4211QLefxoJ8A4Zr6iUqhLsoF0sMISqYF5nBKI0oNHdKRWnZFlbzDpyq6U/CeeqZq0Rgs09WFRFB2ebafMCpfloH2zAQ952TFQ0jeGCUrKuVQjmpDHerJnOTGCtVLsjT14kHUMbvYDT0Zzzsm3RUDI0XIDPPGmFDMAjiOXAe2p9j3kWusDWEfJ/oJs0f95Wc72Fi4br+au7q2Vct5PC7eT4irexr1fiHht1DHduSK+omrCogLpEejEcEhikYYeTL489Vhj1pSZcaEdq/TTbmlK6CF0lUGy3T79BN6pc+kP+LsVGjHN7cb/MjV4QDFfoXb84mMMc286skcc4FaclQvNZVmGeqYHSrD5HDSVzGd5Yc6DMxQKtPGNNYGG+rANohnLP58dRjxsRqI+2ipLzbIcpyd9gdFsoqwry2c2S83ZiAa1txFP1ExF43vDzHvLsL19BMzmfbIXP75hCn2ziGVRshho5I+l8yhUsIDRtQq/I2lUke5r1K0PV+mcVBSb3AhrJFiXZEpEQxaXNMpVANRZGwIWWd/Nha4oczhlDEO68l8IlOHtDTO1+iYM6+7BLX2y/gD6+2ijqlhrHJXZiuqwqMk6pq+TZP39jDlNkWC8bkbuYoQuzt+XfZngzOm2bh2g7LAyMY0U+efBtrzceEWv0HBwqn9MtfkblEyJdxb2pbRXPlYXLafENcpUvM+MhVgj8C19BMh366Fy6RHqG2WKPQSIn3RXyLNtZNlOn/vcF2pKGc343vMaFqSmxoglKI8N3uyM8cMVYm7LXs6E3KzTIzcHtWxqhmzDrMEVRG864TM2lg/asZWNOd5iy2ZjUlq4GUnY1mNFTeZtGqbLMkJhrAL0+pRFviKKrmyfezW7BmafiJgRpuSeyU9/cXNXV3bquU8HmcSzBg8k3uxetVpdxYogOF0UBSpxAmFobvjC0gpM7XSiUQwH3n2sKfDlfQTha5lK4+c0QUqF2y3JYXK4M6zpdTTDr3c0AQrsiohy6Ii49upvcHhMMNJpPy3yMbZqmZXXd8y8/txl34xy1Dtcc5XQ9F8lKrI+incvb0pVu1RReF82ampzHJq3i/GDSkekkOaeN5M46IisIuo7hFvr0qR2+LAVA3r0vQTZq5g4ZDDA7mR5V3aGvPUe3zOIZjGG2ELHl4cu34Tb6SdEg/U9MLvdBe8aiJqod9qESsxG5QGP2oZZEKiphMbhXmnYzeb+hLx6ngId+Ve3Z3r6CeSDF0Lj9xPaLHlOdzvphHKLEn94xSlpHYIKVooXVBSb7BMV2aySXV7gZki+6ifBhmV8bVGmJSbZR83npemWAaGvDRPoYPF9nXRqpehzdmUyMlaiYq0Weu3yQSPzrPjyVfrFSjD+m4gr1I9DxR4TxZhHxxioteMNubwt5D9BbObCDVBdrbQS65+1AW0qY2+bTYpUWTQBCn7JskDe2+uop/YIyB25oLPJxokpqtY70b5UNgpTNaqyTBNsZ7y3xtcC6vYl+LYLCFs+oJK2fQoa+lWiDlLUjamZ566VW7JCpNT6HeJY0svdQfP0SYS+0dEZxYxoB1HOzmqhhsI1TphzugMl/NJ2Z2SLLM1fpa49mChhP20Ab3UVu8ydatgl51dxf6CORioahyOUnh7WQ2aMs8L4E6MdifTZbTIiLPFyTX0E3WOaVowrAI7cZl+Qs+N0egUvw0It1q8Jyv6TMZGUYsjeINzeyTWG3WO65qcvWRmjZmUr2LAkvF+QmfBYktmbhy1YUU/IbeotONooaL0E2abVOY9o4qmrH2i9mfUUuNJe5qhngxMa3fyWBghWNgxYAb1LjlZO9bM8uhS6TjL84mBQG3C3rilQs+LQiuMiC3pJ6bfnxjKcbtZFfrezQSbZyq0ihxcoQDDXL6faALiKrimfmKUMU8ur2eLrZLINlMM72zfpG7hycnuLTRiBQPOyYurd4sRI0ULusYv9L9nxraut5f6sGVOgDRl9IgOKv2EzlBkjmlrj47mTrYOKkvNMC4a6ieUcmhp7tI3xYTiBv+s5wyCadMqNWTq+xOz/uyTOdAF8I5+swMGwzrvTyzAaE5MDf39iW76G/KosAG2TM8XcPF+YkhEHh/6icRiqyRkzRRj9gj7xcDj9BNe4/zvKK5eGgWpatK23WyYsW3Y28vRS9coSj/RbXHmw+A96CcGA9gUhsqxZpZN8b+e8wimxHyIDDW2l29cRj64+Vfa9u3D7F5YdhEB01I41P2dE6789m3pPM2l+4lzrm0LF+sn/K7XjMT6WEVJWVTTy8y3rJ/Q2c2SlJlGKY5ZsQw1I7DVmIoZ24a9vZx8ySUjYan3E2uzXkbTGRqw30/odB1+zn5CR5uuyeXLaeklBNMsf98m4G3lasrohfuJbb9tnJHL9BMA7wM7d1pweS4gmBu60neM6ymj1/A+5jVCPwEAMAiCCQL9hA7pAQAwCIIJAv2EDukBADAIggkC/YQO6QEAMAiCCQL9hA7pAQAwCIIJAv2EDukBADAIggkC/YQO6QEAMAiCCQL9hA7pAQAwCIIJAv2EDukBADAIggkC/YQO6QEAMAiCCQL9hA7pAQAwCIIJAv2EDukBADAIgglCt5+Q+AAAAACYRdoGnk/oOO8AAMAsCCYI9BM6pAcAwCAIJgj0EzqkBwDAIAgmCPQTOqQHAMAgCCYI9BM6pAcAwCAIJgj0EzqkBwDAIAgmCPQTOqQHAMAgCCYI9BM6pAcAwCAIJgj0EzqkBwDAIAgmCPQTOqQHAMAgCCYI9BM6pAcAwCAIJgj0EzqkBwDAIAgmCPQTOqQHAMAgCCYI9BM6u6THw4vbm7uTPzgT94cdpwgGnw43h6FBd539MsgSnh0f/MF5eAQvLZji4fjs5nDvDyYZv9JEzu2LFV6UKW6Pr/zBFI+wTSbsx4xZwPACh/AWDnm78dj4Hq0QLvoJEOgndJamx+nuJhKTtk7LV8dbf4nGlFxWSpcJ/WQhEaum6oHc6wgjBIP1fkIZbayM5c4RdJO6ziktWevDyoY0bKdQGVeUzGqxTKFfo3lphWQL41M06427XHUJ5rDBOae60pL7P/ObLGfCP40xMZirciuB1+BmUbZJtdwwu1NlFMUAq/sJxYcZuWfq3UzWVgssETO02AvEBcYR5vuJjs3qXYoD3QUrgpN+AoTL9ROSco5SlVaI7DlYlB4mhzOz5XAyLQvZGltypXRGCLycabXK40SzJ1jmU6+kjcEyXVnFLXJZXV0mZvfIUIVztDN9MiNLVvgwI9dxpVDVG+pQT+ZEN9ZoXloX6uNTVJuVTZcFT0G76c2VZjtKt4db5GfdsBbr/JO515EHdkPcHW2bVOYtKVeRxVgRVJFyp0auya0VH3YXaCKq7Ety0l43Fi7wdkZzV9e2ejkDPEY/YfzgyAJ1ODDeccQPjswbK/ZxI5fqJ1JaJuGzQnMlkbEkPZq0DAvRtlMWbvHnq8MelYoZoU9o91qpMrf0NKsQl9pgma4qLYa0UxEJ4knLOwFdLccS86GmtWSdDyPlfsV5s9uN05rR1JM5coGu8pqX1qX6+BTVZmXTmeDRali76fWV7exxliKcpqjGLPeiJa5LfqjFwQylMmNJ11dKWBq/2SHd+eowUu+mTJHQFuhKo9ziflB0r9iOysIZb7sxI8Gw5q6u8+vlDHD+fiJFTraQNmjfT1LopsQPqv6YXKifyJd6f7DBMacsj8uG5xMm7l24V2lpDmthShmiFc6IhEuND5pSHI0l+aeB9nwKO4NPy2CwmqXluiKTuiOzlBLmSNKQUAqGwgYfOownC5M68xZrtGgLKegstt4jRzu+Z9IJ41OU+1tPVztfMEWoSsB6m5rZ0wUy/qx/3PXuMhkqMJn1cV3KNsloqxSjWqmM7MMmibLFJp33qv1Z8DbUUaTspr+yNDJW+mot7flcIZN7vYWT3ja2ZbuWfB6NDPd2HdhcOc/5+wlZV8hucY7dlyrI31/yaLloPb2a5xPeC9fCwvQwSZsIym7SslT5nCXJkNxlMdP5e7VaNUI5u9EgjxktS92Ikd1GB+dm73igWo7Fja8x4aUlPnR7pM1bLWotYowew2lps+3ODONTVJ7JNiILngxXQsrBmytN2UsOtLf46eTnmfy1FjbzyhTNjuQn5S5ndlxg2iy3oRqzG5rcJUQDtLCMlAW+oo5zGd9frC5wgKaf8MZaCye9rWiFu7i5q2tbvZwBduknJGg9yuxmIS5+/EJCV7GBpHsz0VtzOiyIsa1ZbzCp51C3LG26T/yReprGVARhHVfw/oSJCXGH5vQi7R16AuzOmvQw21OsokhLZS0tvchTNCKxKqnKeuP9Hwxut8Op0immtEcWNTO7DFVZ2J4ZZrUP7Y16gslHmTQkRZugY7zc251i3Xobxqco9zcPxaTLGTbA7qsA1q7MNCj3m5d4FbdrCzwg8/poT2aX27QLjTOtE3yWlSnWId5eZLrgluxZJVniZ8W93sIpbwv5HpVGlnepa8x1YAHb+wmTemHShxdHZfq4LuOZFCQlVl5Ker463YVoNyMv3KbpgDQBkAY/1ulmME6u0bRLKMw7HdXlxJAzPhQndIZKPBzvgv25tdu4XD+R4bWv8MiFGU4PJXw97qWzfdaizOKFXpwWp4gOnMLHTSEuQbyCjtThaM675KkiL5+9j1GKjLpELTH7mmnqU6D0UuUNnY5XB6cQfE4FsgqhdAnx0+wyQbmyh9zYU+1AL1NaHU+lIg0rC0zyrRbCGtUes8AOh3uxcGFRCSjDemvzsrfI7CIHw256Cwe8/dhs7SdMyVyQ494DRYexhXybcnpBm9ASxGz0YOKM0M36Dj5aoq52xCSjCLYtXEE/4aUwLamSwouwy+M7ozLlXvblbO12NoUkZ8qTWQLHeA0G11qWi765Jmbv5OwVe23rWh8myZARgiV6Itkla0wuVr3LOHbGSwuSeXwK5Up/QS12xYbaT4N4LZBFGWSR5AXSpmRoJ2WBW2vGLLIR1bxyRmd4seoCA6GPV5Ed9LOkVPUWznq7lyP6XeLbkhV5ulUwF+2v91vy7drwK/Z32aqnDG4DaQsL0tDgpUBs8KoigaTfHrsxwz4GX7yfCMuWtQVBTMHRBPpey55laXqoe2ayeqqQRNLeT+EDpUQ9GehGkiO6N/N8FYs25mqfp3VNzl4xb8ymgjHrw0J9giVjnncsWWyBdmMK8kU29FhgWylPcmM9e7xggZBly+khy1RpMzrtVEIJD2Oeynxp8QWpQiwckpfOYjWz9ZMB3YxIXGAcwVs44G0F9S452QSA2aml4+/wfGI0/aNLs5cYUvwrYaavxShbXLhx9WCoW6bfn5jc9ID1fIWuAzPKWSDLt4PI6oIg6NFSJNRo5M9y4X4i81RwxDL3nYtd+olh0tqnWFAzPEutMiFuphizR5gwST6aJ5uliO8VzNoc1dng3WKNbJNN/Kaz0P8ezUtZkg97e4KJjagZl87iSk3+AncnXbMKZJmTmmX0vYMsbTg8BixZVL0UOlMMVZGCxWZ4H86usbdZzV2dYFiejJsf6Nr0DDGsvz9hydaeHD606RXZGp27FknlNHbAkNSd9ycWIKZmPaX+/oRlvJ4aC4O3rdwtDN0OF+0nKhE0XrOMKuMZoZ8Ymmm5SV1kqA0SP2BzoT7GLf4XFK/ROdt2s0HzktiwWAEnWLARnRKiMH7lyHIUPy9ACQ9bgTTmHfse9BOD0SVXNr8WyyyP/nzCkDa0O3vlMZPCljW7mU/XvGm+GetYy4ZIS0j8e/oqV4lAvEVXBrPLji1vDlVcxfuYV8iKfkJnKJhkOwfqdwqpim4ovGX9RIexJczaXJSfw4v8aWedTt3dHHRLhealJDcV69RnwUYYP1yon+gwYrkssPaMmLdWBGMdahhZb2exRYAV9BZ4zn7CT12hTtek3iLRcOzRT8BbD/2EDukBcN306/e6ngw2gGCCQD+hQ3oAAAyCYIJAP6FDegAADIJggkA/oUN6AAAMgmCCQD+hQ3oAAAyCYIJAP6FDegAADIJggkA/oUN6AAAMgmCCQD+hQ3oAAAyCYIJAP6FDegAADIJggkA/oUN6AAAMgmCCQD+hQ3oAAAyCYIJAP6FDegAADIJggkA/oUN6AAAMgmCC0O0nJD4AAAAAZpG2gecTOs47AAAwC4IJAv2EDukBADAIggkC/YQO6QEAMAiCCQL9hA7pAQAwCIIJAv2EDukBADAIggkC/YQO6QEAMAiCCQL9hA7pAQAwCIIJAv2EDukBADAIggkC/YQO6QEAMAiCCQL9hA7pAQAwCIIJAv2EDukBADAIggkC/YQO6QEAMAiCCQL9hA7pAQAwCIIJAv2EzvnS4+HF7c3dyR+cifvDjlMEg0+Hm8OZ7T4z4pZnxwd/MMn4lWt4OD67Pb4yjr19cbZJpmi2cteA6eBXPc95ne8QD4wZs4DhBQ7hLRwKksZj46G1lxzRT4BAP6GzS3qc7m4iMb3rBH51vPWXaEwJa6WJImc3h3v742R5EKv8ZSpyryOMEAwe6ifyJQv6RN0ll+Ov9UxlQxq2ll3jsZLgT62kGT+oTOxRuwRzcbefWDRFe/FwdzLST7TOCfRDS2icH0O0KrdiQ4NbpuL8rjHzSy62IK66yp3W7II8jEM6BJK11QJLxAxtEwNxgXEEb2EbJJGOzepdigPdBfVy1kI/AcJl+4nTocqx+8OwJp6X7elhsj1LVDmcTOBC4MaSvNJEIxnz/YST1560mU+95jYGy3RlEaqRC6pi057pk01dssIzGbmO14WqKgDZoVLSOszUCY84M6tJfiJZy1C0a1NU0eVQT0aM6zSMYRMBUzF+pWAtP6V5c283RJ8PO3/egSaosknNoYuxKnc8ZXSNXJNbW4VTgdmasi/JibnWWjgaJCXNXV3b6uWs5bH6iaZkKGfeWy5fTy/VT0i2SNqcDhLKbs1Op+4PknKnu25aPhqb06NJ4FAVtAQWb1j8+eqwR6V3MqO7zaLda0XN3NJTt0KGaoPdlnXpCFNlpEX2Wqcdf51nIuUuxHn97dUeZYdKSQtTtwzImTh8UT+hbkSO2cHGCerJIVz2jTB+pQ3IdtVd4siK881QKjNy2VgbNkIJSxPAdkh3vjqM1HEuUyS0BZoWwe6L+0GJFjEmRX5l4USQGNyYkWBYc1fX+fVy1nL+fsJ5KSsZypn3lsYVLvIfvZ5e8PmEuKDIAeMCS6ZBF2Pv5xNGEF3EVwlsDmsJ8x6wh22JjQQHZnjXlTJqLMk/DbTng5Y5XIxGg/1hD7lXS+mqqFjEvIEavMEzDuOfwqR63kpks8MQirkbdYbWEnY/qb+ZSFahecxQfFTuZiT6JNIbLSe/K+1LZwqF0StTwMcwi7upE0dWXFrt1DDG4dmNMrIPG4mNfECbSn5d9mfB21BHUev2cGVpZNzrai3teTmTXRO23ltYREKNsS1LruTzaGS4t+vA5sqVPMrzibA1KQLbM+8tjStMtBtq+T0nl/y+Q/qmw12eLafDs8NhnXDszR7pYdI7EbbZJHA/+suKPo1XnICZzt87Kvo1TT8RMKPJ4VQJ76yrMtISAr1lYu1LPOM8r81biHslstlhfWWfIVdbT6bL/EQTpWLioy2YPUrrMlYtDpiRK+UaZSsrbztKn7uR7e2GZKpc5s/VzG5THM0QDdDCMlIW+Io6zmV8f7G6wAGafsIbay2cjIRqFcZL7uLmrq5t9XLWsq9g9pbclAzlzBJsYloWjjDwJUsKvNnffAaIbWg/bpfX09XL73KxfiJEfAz08EOeXYUWOCa8sye7tdsmDop4KhJYWWBLLxwVNUms0oimnzBTB4P9YR8bncW87ZlhVnvG3qinh3xUqEDpMUPwZ3ll9ht2n4llmieQp+OzaK0P9Vz0x6fYYEzMtYAs010Zva2opPFSjIrcZgU3zoIdTyalvKi3aQfEaaXZee60YaAQby/yV4iuM5TuHaTpJ+xc3sIZh6cyY8iNLO9S15hn91Y2C6axMNp8eqEEQFhUETPVGeu3mtIVidNdSEnjxoV7Nx2lJirS4Ef1F6EichwdGwrzTkdtOY0rwg9ldOVsWn6Hy76Peb1sSw8lpj3u9bQ9ElidRfl1U4naFh9YhQyFQAyKI9OF+OtTVbv6l9QlxlwSsXO3kub9lvnWp3rh7ccgl11LjJM8YGrkruF+wtOL/1azkklp5ML5ZvZZVJNM3HY43IuFKwVUGdZbm7t3kdlFZkkGWW97Cx89SFaytZ/YM+NWkO9dTi+SE7XEGczua+dX0nTDu9Nb/mLoJ3R2ez7RYPSo1O6+8K2trFPlIQqWhmlU/aQxiIPBhepNMzXFEtZ6JqWHjBAsWWC/qm49Y6ZTPXNFtMr/IANW97ZnDNpuyrA6/X0XzBLSuoxWetumAmYvcVQ1Szv5GKXFV+uMbuUYlnJ1gYH+r4lCzLUsAb2FekhkLAtL8W3JLnkqbBRMs4rJ0D0PxaYvc8VUlLbRtYW9ErBlw/I7XHc/0US/pMl++zTFLv2EWlaHM0c2e6D+qZVAPRmYKfbR52GEYPCYPZb5KTYVjFlLkrKL8cGSzl2qMdpJGarVaPVkpN5rX1S8ee29+miTu1kwcKUxKZD2aOrGFXJW6FRGm7xaDVacb2xQmXC+Ry/kYuGQknT2VzNbPxmY7CeyBcYRvIUdA2ZQ77JbX6WA2akV47fs8HxiMMhnUGJPX2Bq3QTj/yVBPv3+xGQkRGTJNfpdM3K6jk3L78LzCZ3z9RPDSGJMV03L8jxcapWRITNF3x4lMVqye5WCsYhZz0R1NvjFWiMVZRk2pqfRy+XYy017r1V8jWaLZRN11olyGUXdwXOmJpINmtRTo2UdZNhtO1IzU8hn6EwxVjByFpvhfTi7xl7MNHd1asbWZPRsFkxZb7JZfX9iZ7KFOx/uUlAddsCgUb33J8YRU7NGU31/YjHnWT79hA79RMREm5lizJ4RtkrYrCVJ7sV4s1jfjHuNLhg2RoZqlV09OcdUP6GMpm3xttBqWB5Fk2h+HkfZEVMLVead/x70E/NOsMiVRVtvkFkGfDjAHoJpjHHsGdtdUlDZ16V3ntR627JJ6wKSFJ6dRPg8y6ef0Nmrn9AZijDJroHQSXFW0dW7q+gnOowZNmtJUX4OL/Ine3Jv6ZmuMfUUSSBKlsuxr0ZtJehNofYTHVbtkThh536iw8gsYozSTyys3xHTSuqMBFu7R5YiwAp6C3z05xO6yDTRvlcR3UUw4W2HfkKH9AC4Gvr1e5df/mAzCCYI9BM6pAcAwCAIJgj0EzqkBwDAIAgmCPQTOqQHAMAgCCYI9BM6pAcAwCAIJgj0EzqkBwDAIAgmCPQTOqQHAMAgCCYI9BM6pAcAwCAIJgj0EzqkBwDAIAgmCPQTOqQHAMAgCCYI9BM6pAcAwCAIJgj0EzqkBwDAIAgmCPQTOqQHAMAgCCYI3X5C4gMAAABgFmkbeD6h47wDAACzIJgg0E/okB4AAIMgmCDQT+iQHgAAgyCYINBP6JAeAACDIJgg0E/okB4AAIMgmCDQT+iQHgAAgyCYINBP6JAeAACDIJgg0E/okB4AAIMgmCDQT+iQHgAAgyCYINBP6JAeAACDIJgg0E/okB4AAIMgmCDQT+iQHgAAgyCYINBP6JAeAACDIJgg0E/oPHJ6PLy4vbk7+YMzcX/YcYpg8OlwcxgadNfZL4Ms4dnxwR+chyvzkuzy7YsVK344Prs9vvIHUzyCS02IjhmzgOEFDuEtHPJ247HxPTqryNBPgEA/oXO+9Djd3USiENSp/up46y/RmJLgSj1F+G4O9/bHyVolVvnLVOReRxghGKz3E8poY5Uyd46gm9R1TmnJWh9WNqRhO8XPuKJkVt9lCv0azUury0BrmEOZOvdVtkYZYWItjaNi4FXlVoKkwc2iuNRErMqsV8sdj8FQ9xON2QV5yNWeT9ZO9hNihhYngbjAOMJ8P9GxWb1LcaC7oF7OrtBPgHAN/URdk6ZV7HE4U3oYXchSOtaVTqoXUjgmB5V6GnGZ7yecEPdE0HzqN6gxuN47h1y2vJ+QoQrnaGf6ZEaWrPBhRl4blOJXb6hDPZkT3VijeWmxzQG5sZ1FOWlcV7ooeFIdQcc66mTudeRB2BA9qblUZd6SchVZPFQZ4THLTF4duSa3dqqfMLtf9iU5aesbCxd4O6O5q2tbvZxdefwHupWvxLE9n79f2EzMXfOYnrl8P9FEhmSXWhgelfOkR5PqYe+1VBc/WPz56rBHpYzlLyvavVb+zC09HSw2qDZY3ywlgrVKmaN5QKiWY5GhdFpL1vkwUu5XnDe73TitGU09mSMX6JVD81LHM/MUGxdoT7bGxO1TR9AwYZbteLekeeIy5Ye6nygjNmPGksZ1YRVKCBmX2iHd+eowYs7nY8YAMGgLNC2C3Xr3Q700ociXysIZb7sxI8Gw5q6u8+vl7Mrj9hOFGw1BlyAmr+dxPXPxfqKJfk1SH59HeT5hpNNpQZXq5rAWuyTxWuGMhJKZ4cOrdKyxJP800J4vA9RncjC4SWxDua7I5LbKLJqYmqEqC7UipLDBhw7jycKkzrzFGi3aQgo6i9WDvx3fM+eE3o3V1I0xyecywuxa3PXushg80fM6cZmKS2W0yXt7mHKb3Sgj+y2WfcwHtAninWx/FrwN9Y4rDvRXlkbGSl+tpT1fintwr7dw0tvGtiwRks+jkeHergObK/fkUfuJJk0mXfdeIXFSKNsje+bS/UQtKCZP6vpxCc6WHmaBiZAVJtWbQhIpK/o0XpsCmT+bJByknN3omseMVoevwUh5o61zs3c8UC3H4sbXmPDSEh+6PdLmrRa1lqaEB9LSZtudRWjbFCkrsa06/uJ5MbIGN45VS1p2MgZDXG9ybJkgObPOT94TogFaCEXKAl9Rx6SM7y9WFzhA0094Y62Fk96uVmG85C5u7uraVi9nV/YRzNiBTWyZXXsZcpNbPIXc6JmJ85rTYUE07pHLQ55pt3jKM6n7n13LMBfuJ2qV7+ZbZF+d7XLedtsER7GQIg4KWezR84OiO4lVatL0E2bqYLA/zHBKd6pzXhY1M7vN7ToZVtq83of2Rl1c5KMsOFM2TtAxfqqfWLfeksW2JbUqxEV2uauzzsMLrE11LkV76dJdaHybZ0SZDh3i7UVWCm7JnilZ79Lom53LWzjlbSHfo9LI8i51jXnOnoUdBNMsMHr1dOy5ovShocgaKxolPa+e7oICFFOPMR26JlTS4Me64TaY7ajRFEkY9EyWYp7CMyX3h6DPTrG7S1nEZfsJ2fvCgzMZ9YicoZ9QAt3jXmTbJ9WVWXzc5LFlwn0WvzXFpoRkDtqk7KBPszyjhInIzqgKYdGRCEvMvmYG+4nFbcHeDORjL6pbdS76CT+srDeJ8rJin2OirsPhXixcWCoCyrDe2ly4F5ld5Ivsr41wb+GAt6+X7YLZTYqS1kvBjVvINzSnF94JbWoTEptNSgx6pu20Bj2zY+Bdsp9ollEk22U57/OJBqNcZWEwZ3TWumiyok9FnumO/aQxsoPBtT7mhcRcE+N7rJ9wDKbBLGt9mMRFRgiW6MFpl6wxuVj1LuPYGS8tSJBi7WEX5OQi4Vh6fUBVZ+1k0U+cCXFaNa+c0RlebK/8WBpZz4kZlKWVt3DW28WeZuh3iW9LdqxwLZsFc7AGNykw6e05ikhY5p+p0G1DbguDnmlkc84zhQoNi/M0F+wnmpxsxFTLn1E93cj5+ol61y1mpUM72qSTilqW1JMB1apE1KYwQjA4s8foY51FaV2Ts1fMG7OpCM36MEWm2B8sGfO8Y8liC7QbxYZQMJbYEMlkxSjIEsOyqXuISSqtnmo1WNlKo54qc5b0BFQsbI1R6CxWM1s/GZjR8bjAOIK3cMDbCupdcrKRSrNTK8YfZJfnE1NZ72gSpFm+EpD6qo1eRReZTZmfPTH9/sRkeATsHlXo2T3kGbPw4vbJcCrWayxZp1cNl+sn6sgY2oNH45H7iWHqoNFZXs+WWhVCcMweYcIk+WiebBa5fiqZZ5m1OSq+wbvFGtnmp6nQKuvyU/NSpgvD3s6J5c38cDg8K0bQRC1wd5qUJIeYNJm2RrU7yEqHt3LAktlCPkNniuW6tNgM78PZNfY2q7mrqBaJrYkzxQ6CaVIsulp9S6Ddi1UZ4ci84Ry7QZZr7IDBsM77EwuY90wbPNOeydLWZeg6vWq4WD9RF7BtWrA79BPTmIQxUwzn83KTumRCsIpZm5NsyTKNW0zKyS1ZEga27WaD5qVGKRbiMssswRpvtGlsy4amVnyyAGUri2YuZ94J2zSks9jr6icGI0GubHZZZrnq5xMGE5wOLURbx2r5MkyKNOX98c3YLbBsiMnEtGfaKJ3zTG7efm/vXaqfMOpW+EV0+XyxvoKz9hM6Q2E3WwstKfgqusr4lvUTHcaWMGtzUdIOL/JY9dIf6e7moFsqNC+lzK8Y1CmjwofDqsebcuVcVpoqpTMyhay3XsXy+h0xqqIzEhidxRbBUNBb4Dn7CT91hTpdkyb71suK8wlmpKkRZmvOuqi3hjqPLuaZy/QTTeYMl6XH4hHSAwAa+vV7WZGGR+X8gtnUiMV92ztL/dvg5Txzwfcxrxr6CQCAQRBMEOgndEgPAIBBEEwQ6Cd0SA8AgEEQTBDoJ3RIDwCAQRBMEOgndEgPAIBBEEwQ6Cd0SA8AgEEQTBDoJ3RIDwCAQRBMEOgndEgPAIBBEEwQ6Cd0SA8AgEEQTBDoJ3RIDwCAQRBMEOgndEgPAIBBEEz48ccf/3+kqO8g5oWzKAAAAABJRU5ErkJggg==)"
      ]
    },
    {
      "cell_type": "code",
      "metadata": {
        "id": "WErJygl51bCf",
        "colab_type": "code",
        "colab": {}
      },
      "source": [
        "from tensorflow.keras import models, layers\n",
        "\n",
        "model = models.Sequential()\n",
        "model.add(layers.Dense(64, activation='relu',\n",
        "                       input_shape=(train_data.shape[1],)))\n",
        "model.add(layers.Dense(64, activation='relu'))\n",
        "model.add(layers.Dense(1))"
      ],
      "execution_count": null,
      "outputs": []
    },
    {
      "cell_type": "code",
      "metadata": {
        "id": "SOxzxeIR2q9f",
        "colab_type": "code",
        "colab": {
          "base_uri": "https://localhost:8080/",
          "height": 269
        },
        "outputId": "8f806246-f9c5-4c4e-b4c2-1a8498ab6a82"
      },
      "source": [
        "model.summary()"
      ],
      "execution_count": null,
      "outputs": [
        {
          "output_type": "stream",
          "text": [
            "Model: \"sequential\"\n",
            "_________________________________________________________________\n",
            "Layer (type)                 Output Shape              Param #   \n",
            "=================================================================\n",
            "dense (Dense)                (None, 64)                896       \n",
            "_________________________________________________________________\n",
            "dense_1 (Dense)              (None, 64)                4160      \n",
            "_________________________________________________________________\n",
            "dense_2 (Dense)              (None, 1)                 65        \n",
            "=================================================================\n",
            "Total params: 5,121\n",
            "Trainable params: 5,121\n",
            "Non-trainable params: 0\n",
            "_________________________________________________________________\n"
          ],
          "name": "stdout"
        }
      ]
    },
    {
      "cell_type": "code",
      "metadata": {
        "id": "MMsMDHbo24SW",
        "colab_type": "code",
        "colab": {}
      },
      "source": [
        "model.compile(optimizer='RMSProp', loss='mse', metrics=['mae'])\n",
        "#모니터링을 위한 mae : 평균 절대 오차\n",
        "#MAE = 0.5이면 평균적으로 500$의 차이가 발생"
      ],
      "execution_count": null,
      "outputs": []
    },
    {
      "cell_type": "code",
      "metadata": {
        "id": "lHcKL1pt3Mt3",
        "colab_type": "code",
        "colab": {
          "base_uri": "https://localhost:8080/",
          "height": 1000
        },
        "outputId": "ceec5985-dc8f-44b4-813f-48a300a33b90"
      },
      "source": [
        "history = model.fit(train_data, train_targets,\n",
        "                 epochs=100,\n",
        "                 batch_size=1,\n",
        "                 validation_split=0.2)"
      ],
      "execution_count": null,
      "outputs": [
        {
          "output_type": "stream",
          "text": [
            "Epoch 1/100\n",
            "323/323 [==============================] - 1s 2ms/step - loss: 209.2990 - mae: 10.8195 - val_loss: 49.5109 - val_mae: 4.9342\n",
            "Epoch 2/100\n",
            "323/323 [==============================] - 1s 2ms/step - loss: 30.1932 - mae: 3.5586 - val_loss: 23.5912 - val_mae: 3.4639\n",
            "Epoch 3/100\n",
            "323/323 [==============================] - 1s 2ms/step - loss: 20.7568 - mae: 2.9344 - val_loss: 17.8696 - val_mae: 3.0015\n",
            "Epoch 4/100\n",
            "323/323 [==============================] - 1s 2ms/step - loss: 18.5885 - mae: 2.7509 - val_loss: 15.5744 - val_mae: 2.8915\n",
            "Epoch 5/100\n",
            "323/323 [==============================] - 1s 2ms/step - loss: 16.2088 - mae: 2.5720 - val_loss: 14.1860 - val_mae: 2.8302\n",
            "Epoch 6/100\n",
            "323/323 [==============================] - 1s 2ms/step - loss: 15.1756 - mae: 2.5094 - val_loss: 13.9114 - val_mae: 2.8142\n",
            "Epoch 7/100\n",
            "323/323 [==============================] - 1s 2ms/step - loss: 14.0250 - mae: 2.4087 - val_loss: 14.0846 - val_mae: 2.8086\n",
            "Epoch 8/100\n",
            "323/323 [==============================] - 1s 2ms/step - loss: 12.7962 - mae: 2.3208 - val_loss: 12.7204 - val_mae: 2.6720\n",
            "Epoch 9/100\n",
            "323/323 [==============================] - 1s 2ms/step - loss: 11.8299 - mae: 2.3144 - val_loss: 11.7994 - val_mae: 2.7102\n",
            "Epoch 10/100\n",
            "323/323 [==============================] - 1s 2ms/step - loss: 11.5898 - mae: 2.1932 - val_loss: 14.0316 - val_mae: 2.9444\n",
            "Epoch 11/100\n",
            "323/323 [==============================] - 1s 2ms/step - loss: 11.2857 - mae: 2.1602 - val_loss: 9.7611 - val_mae: 2.4346\n",
            "Epoch 12/100\n",
            "323/323 [==============================] - 1s 2ms/step - loss: 10.5938 - mae: 2.1285 - val_loss: 11.3098 - val_mae: 2.6891\n",
            "Epoch 13/100\n",
            "323/323 [==============================] - 1s 2ms/step - loss: 9.8397 - mae: 2.1159 - val_loss: 10.3994 - val_mae: 2.5162\n",
            "Epoch 14/100\n",
            "323/323 [==============================] - 1s 2ms/step - loss: 9.9603 - mae: 2.0861 - val_loss: 11.0748 - val_mae: 2.5901\n",
            "Epoch 15/100\n",
            "323/323 [==============================] - 1s 2ms/step - loss: 9.2757 - mae: 2.0480 - val_loss: 10.2253 - val_mae: 2.5168\n",
            "Epoch 16/100\n",
            "323/323 [==============================] - 1s 2ms/step - loss: 9.5979 - mae: 2.0341 - val_loss: 10.2591 - val_mae: 2.5072\n",
            "Epoch 17/100\n",
            "323/323 [==============================] - 1s 2ms/step - loss: 9.1042 - mae: 2.0187 - val_loss: 10.1074 - val_mae: 2.4556\n",
            "Epoch 18/100\n",
            "323/323 [==============================] - 1s 2ms/step - loss: 8.9102 - mae: 1.9470 - val_loss: 11.1909 - val_mae: 2.6381\n",
            "Epoch 19/100\n",
            "323/323 [==============================] - 1s 2ms/step - loss: 8.8252 - mae: 1.9543 - val_loss: 14.6480 - val_mae: 2.8708\n",
            "Epoch 20/100\n",
            "323/323 [==============================] - 1s 2ms/step - loss: 8.6471 - mae: 1.9351 - val_loss: 10.1216 - val_mae: 2.4587\n",
            "Epoch 21/100\n",
            "323/323 [==============================] - 1s 2ms/step - loss: 8.6211 - mae: 1.8929 - val_loss: 10.4032 - val_mae: 2.4726\n",
            "Epoch 22/100\n",
            "323/323 [==============================] - 1s 2ms/step - loss: 8.5975 - mae: 1.9286 - val_loss: 10.3622 - val_mae: 2.3436\n",
            "Epoch 23/100\n",
            "323/323 [==============================] - 1s 2ms/step - loss: 8.1006 - mae: 1.8940 - val_loss: 12.4140 - val_mae: 2.5223\n",
            "Epoch 24/100\n",
            "323/323 [==============================] - 1s 2ms/step - loss: 8.1642 - mae: 1.8885 - val_loss: 10.7614 - val_mae: 2.4944\n",
            "Epoch 25/100\n",
            "323/323 [==============================] - 1s 2ms/step - loss: 7.7762 - mae: 1.8579 - val_loss: 12.3978 - val_mae: 2.6377\n",
            "Epoch 26/100\n",
            "323/323 [==============================] - 1s 2ms/step - loss: 7.9988 - mae: 1.8889 - val_loss: 10.9788 - val_mae: 2.5588\n",
            "Epoch 27/100\n",
            "323/323 [==============================] - 1s 2ms/step - loss: 7.5828 - mae: 1.8265 - val_loss: 12.0140 - val_mae: 2.6765\n",
            "Epoch 28/100\n",
            "323/323 [==============================] - 1s 2ms/step - loss: 7.8414 - mae: 1.7859 - val_loss: 11.1336 - val_mae: 2.4623\n",
            "Epoch 29/100\n",
            "323/323 [==============================] - 1s 2ms/step - loss: 7.1953 - mae: 1.8342 - val_loss: 11.9197 - val_mae: 2.7402\n",
            "Epoch 30/100\n",
            "323/323 [==============================] - 1s 2ms/step - loss: 7.2566 - mae: 1.7811 - val_loss: 13.1952 - val_mae: 2.8373\n",
            "Epoch 31/100\n",
            "323/323 [==============================] - 1s 2ms/step - loss: 7.6850 - mae: 1.8300 - val_loss: 11.1268 - val_mae: 2.6329\n",
            "Epoch 32/100\n",
            "323/323 [==============================] - 1s 2ms/step - loss: 7.4000 - mae: 1.8372 - val_loss: 10.6540 - val_mae: 2.5780\n",
            "Epoch 33/100\n",
            "323/323 [==============================] - 1s 2ms/step - loss: 7.3407 - mae: 1.7753 - val_loss: 12.1453 - val_mae: 2.6243\n",
            "Epoch 34/100\n",
            "323/323 [==============================] - 1s 2ms/step - loss: 6.8354 - mae: 1.7393 - val_loss: 10.6787 - val_mae: 2.5376\n",
            "Epoch 35/100\n",
            "323/323 [==============================] - 1s 2ms/step - loss: 6.7512 - mae: 1.7785 - val_loss: 12.1594 - val_mae: 2.5095\n",
            "Epoch 36/100\n",
            "323/323 [==============================] - 1s 2ms/step - loss: 7.2439 - mae: 1.7996 - val_loss: 11.2085 - val_mae: 2.4185\n",
            "Epoch 37/100\n",
            "323/323 [==============================] - 1s 2ms/step - loss: 6.3543 - mae: 1.7240 - val_loss: 11.5441 - val_mae: 2.4875\n",
            "Epoch 38/100\n",
            "323/323 [==============================] - 1s 2ms/step - loss: 6.9961 - mae: 1.7398 - val_loss: 11.4445 - val_mae: 2.4994\n",
            "Epoch 39/100\n",
            "323/323 [==============================] - 1s 2ms/step - loss: 6.8262 - mae: 1.6871 - val_loss: 14.7299 - val_mae: 2.7803\n",
            "Epoch 40/100\n",
            "323/323 [==============================] - 1s 2ms/step - loss: 6.7523 - mae: 1.7476 - val_loss: 11.3685 - val_mae: 2.4852\n",
            "Epoch 41/100\n",
            "323/323 [==============================] - 1s 2ms/step - loss: 6.6488 - mae: 1.6705 - val_loss: 12.0666 - val_mae: 2.5539\n",
            "Epoch 42/100\n",
            "323/323 [==============================] - 1s 2ms/step - loss: 6.7407 - mae: 1.6922 - val_loss: 10.8885 - val_mae: 2.4261\n",
            "Epoch 43/100\n",
            "323/323 [==============================] - 1s 2ms/step - loss: 6.3605 - mae: 1.7271 - val_loss: 11.1492 - val_mae: 2.5718\n",
            "Epoch 44/100\n",
            "323/323 [==============================] - 1s 2ms/step - loss: 6.4856 - mae: 1.6505 - val_loss: 12.4999 - val_mae: 2.4231\n",
            "Epoch 45/100\n",
            "323/323 [==============================] - 1s 2ms/step - loss: 6.1840 - mae: 1.6674 - val_loss: 12.9124 - val_mae: 2.7787\n",
            "Epoch 46/100\n",
            "323/323 [==============================] - 1s 2ms/step - loss: 6.2115 - mae: 1.6714 - val_loss: 11.4773 - val_mae: 2.4551\n",
            "Epoch 47/100\n",
            "323/323 [==============================] - 1s 2ms/step - loss: 6.2337 - mae: 1.6550 - val_loss: 11.9449 - val_mae: 2.5288\n",
            "Epoch 48/100\n",
            "323/323 [==============================] - 1s 2ms/step - loss: 5.8963 - mae: 1.6577 - val_loss: 12.5974 - val_mae: 2.4178\n",
            "Epoch 49/100\n",
            "323/323 [==============================] - 1s 2ms/step - loss: 6.3986 - mae: 1.6243 - val_loss: 12.2457 - val_mae: 2.5611\n",
            "Epoch 50/100\n",
            "323/323 [==============================] - 1s 2ms/step - loss: 6.0798 - mae: 1.6570 - val_loss: 15.6226 - val_mae: 3.0735\n",
            "Epoch 51/100\n",
            "323/323 [==============================] - 1s 2ms/step - loss: 6.1355 - mae: 1.6114 - val_loss: 11.6079 - val_mae: 2.3993\n",
            "Epoch 52/100\n",
            "323/323 [==============================] - 1s 2ms/step - loss: 6.3608 - mae: 1.6065 - val_loss: 11.2505 - val_mae: 2.4027\n",
            "Epoch 53/100\n",
            "323/323 [==============================] - 1s 2ms/step - loss: 5.7487 - mae: 1.6196 - val_loss: 11.5993 - val_mae: 2.6075\n",
            "Epoch 54/100\n",
            "323/323 [==============================] - 1s 2ms/step - loss: 5.9474 - mae: 1.5980 - val_loss: 13.6033 - val_mae: 2.7201\n",
            "Epoch 55/100\n",
            "323/323 [==============================] - 1s 2ms/step - loss: 5.8858 - mae: 1.6238 - val_loss: 14.2202 - val_mae: 2.5094\n",
            "Epoch 56/100\n",
            "323/323 [==============================] - 1s 2ms/step - loss: 6.0913 - mae: 1.6106 - val_loss: 12.3544 - val_mae: 2.5297\n",
            "Epoch 57/100\n",
            "323/323 [==============================] - 1s 2ms/step - loss: 5.2105 - mae: 1.5591 - val_loss: 12.2819 - val_mae: 2.4795\n",
            "Epoch 58/100\n",
            "323/323 [==============================] - 1s 2ms/step - loss: 5.8837 - mae: 1.5845 - val_loss: 12.2117 - val_mae: 2.3729\n",
            "Epoch 59/100\n",
            "323/323 [==============================] - 1s 2ms/step - loss: 5.5925 - mae: 1.5822 - val_loss: 13.3797 - val_mae: 2.5270\n",
            "Epoch 60/100\n",
            "323/323 [==============================] - 1s 2ms/step - loss: 5.6768 - mae: 1.5447 - val_loss: 14.5487 - val_mae: 2.5070\n",
            "Epoch 61/100\n",
            "323/323 [==============================] - 1s 2ms/step - loss: 5.5011 - mae: 1.5505 - val_loss: 11.4935 - val_mae: 2.3040\n",
            "Epoch 62/100\n",
            "323/323 [==============================] - 1s 2ms/step - loss: 5.7540 - mae: 1.5940 - val_loss: 13.3306 - val_mae: 2.4825\n",
            "Epoch 63/100\n",
            "323/323 [==============================] - 1s 2ms/step - loss: 5.2768 - mae: 1.5558 - val_loss: 13.0698 - val_mae: 2.5833\n",
            "Epoch 64/100\n",
            "323/323 [==============================] - 1s 2ms/step - loss: 5.2401 - mae: 1.5181 - val_loss: 16.0549 - val_mae: 2.9395\n",
            "Epoch 65/100\n",
            "323/323 [==============================] - 1s 2ms/step - loss: 5.1640 - mae: 1.5141 - val_loss: 14.2248 - val_mae: 2.7149\n",
            "Epoch 66/100\n",
            "323/323 [==============================] - 1s 2ms/step - loss: 5.1485 - mae: 1.5793 - val_loss: 14.8025 - val_mae: 2.5654\n",
            "Epoch 67/100\n",
            "323/323 [==============================] - 1s 2ms/step - loss: 4.7086 - mae: 1.4840 - val_loss: 13.7335 - val_mae: 2.5177\n",
            "Epoch 68/100\n",
            "323/323 [==============================] - 1s 2ms/step - loss: 4.9666 - mae: 1.5286 - val_loss: 13.7447 - val_mae: 2.4547\n",
            "Epoch 69/100\n",
            "323/323 [==============================] - 1s 2ms/step - loss: 5.3250 - mae: 1.5260 - val_loss: 11.4278 - val_mae: 2.4321\n",
            "Epoch 70/100\n",
            "323/323 [==============================] - 1s 2ms/step - loss: 5.2544 - mae: 1.4911 - val_loss: 12.2306 - val_mae: 2.3758\n",
            "Epoch 71/100\n",
            "323/323 [==============================] - 1s 2ms/step - loss: 4.8396 - mae: 1.4274 - val_loss: 12.8767 - val_mae: 2.4889\n",
            "Epoch 72/100\n",
            "323/323 [==============================] - 1s 2ms/step - loss: 5.0152 - mae: 1.4882 - val_loss: 13.7841 - val_mae: 2.3823\n",
            "Epoch 73/100\n",
            "323/323 [==============================] - 1s 2ms/step - loss: 5.0268 - mae: 1.4604 - val_loss: 16.8688 - val_mae: 2.7787\n",
            "Epoch 74/100\n",
            "323/323 [==============================] - 1s 2ms/step - loss: 4.9113 - mae: 1.4719 - val_loss: 11.1995 - val_mae: 2.2354\n",
            "Epoch 75/100\n",
            "323/323 [==============================] - 1s 2ms/step - loss: 5.1311 - mae: 1.4955 - val_loss: 11.0045 - val_mae: 2.3126\n",
            "Epoch 76/100\n",
            "323/323 [==============================] - 1s 2ms/step - loss: 4.9092 - mae: 1.5006 - val_loss: 13.1050 - val_mae: 2.5204\n",
            "Epoch 77/100\n",
            "323/323 [==============================] - 1s 2ms/step - loss: 4.6471 - mae: 1.4290 - val_loss: 11.6974 - val_mae: 2.5187\n",
            "Epoch 78/100\n",
            "323/323 [==============================] - 1s 2ms/step - loss: 4.7227 - mae: 1.4499 - val_loss: 11.5191 - val_mae: 2.3113\n",
            "Epoch 79/100\n",
            "323/323 [==============================] - 1s 2ms/step - loss: 5.1330 - mae: 1.4599 - val_loss: 11.5727 - val_mae: 2.4048\n",
            "Epoch 80/100\n",
            "323/323 [==============================] - 1s 2ms/step - loss: 5.1641 - mae: 1.4591 - val_loss: 12.6243 - val_mae: 2.3963\n",
            "Epoch 81/100\n",
            "323/323 [==============================] - 1s 2ms/step - loss: 4.4699 - mae: 1.3696 - val_loss: 13.3185 - val_mae: 2.4728\n",
            "Epoch 82/100\n",
            "323/323 [==============================] - 1s 2ms/step - loss: 4.5017 - mae: 1.4153 - val_loss: 12.5200 - val_mae: 2.4215\n",
            "Epoch 83/100\n",
            "323/323 [==============================] - 1s 2ms/step - loss: 4.6151 - mae: 1.3560 - val_loss: 14.0173 - val_mae: 2.7001\n",
            "Epoch 84/100\n",
            "323/323 [==============================] - 1s 2ms/step - loss: 4.7684 - mae: 1.4352 - val_loss: 12.3944 - val_mae: 2.5268\n",
            "Epoch 85/100\n",
            "323/323 [==============================] - 1s 2ms/step - loss: 4.7591 - mae: 1.4114 - val_loss: 14.9764 - val_mae: 2.6829\n",
            "Epoch 86/100\n",
            "323/323 [==============================] - 1s 2ms/step - loss: 4.3513 - mae: 1.4068 - val_loss: 13.5172 - val_mae: 2.4576\n",
            "Epoch 87/100\n",
            "323/323 [==============================] - 1s 2ms/step - loss: 4.7887 - mae: 1.3747 - val_loss: 13.1768 - val_mae: 2.5111\n",
            "Epoch 88/100\n",
            "323/323 [==============================] - 1s 2ms/step - loss: 4.2755 - mae: 1.4055 - val_loss: 13.9572 - val_mae: 2.7462\n",
            "Epoch 89/100\n",
            "323/323 [==============================] - 1s 2ms/step - loss: 4.1466 - mae: 1.3694 - val_loss: 13.5185 - val_mae: 2.5246\n",
            "Epoch 90/100\n",
            "323/323 [==============================] - 1s 2ms/step - loss: 4.3780 - mae: 1.3712 - val_loss: 13.0421 - val_mae: 2.4240\n",
            "Epoch 91/100\n",
            "323/323 [==============================] - 1s 2ms/step - loss: 4.0638 - mae: 1.3095 - val_loss: 16.2740 - val_mae: 2.8340\n",
            "Epoch 92/100\n",
            "323/323 [==============================] - 1s 2ms/step - loss: 4.2956 - mae: 1.3758 - val_loss: 11.1964 - val_mae: 2.3194\n",
            "Epoch 93/100\n",
            "323/323 [==============================] - 1s 2ms/step - loss: 4.0199 - mae: 1.3494 - val_loss: 11.8343 - val_mae: 2.3935\n",
            "Epoch 94/100\n",
            "323/323 [==============================] - 1s 2ms/step - loss: 4.2596 - mae: 1.3545 - val_loss: 12.2405 - val_mae: 2.3323\n",
            "Epoch 95/100\n",
            "323/323 [==============================] - 1s 2ms/step - loss: 4.1474 - mae: 1.3404 - val_loss: 12.6190 - val_mae: 2.6203\n",
            "Epoch 96/100\n",
            "323/323 [==============================] - 1s 2ms/step - loss: 4.2180 - mae: 1.3625 - val_loss: 13.5430 - val_mae: 2.5992\n",
            "Epoch 97/100\n",
            "323/323 [==============================] - 1s 2ms/step - loss: 4.1059 - mae: 1.4042 - val_loss: 14.1814 - val_mae: 2.5607\n",
            "Epoch 98/100\n",
            "323/323 [==============================] - 1s 2ms/step - loss: 4.2469 - mae: 1.3025 - val_loss: 13.5778 - val_mae: 2.4516\n",
            "Epoch 99/100\n",
            "323/323 [==============================] - 1s 2ms/step - loss: 4.3315 - mae: 1.2982 - val_loss: 11.9257 - val_mae: 2.5203\n",
            "Epoch 100/100\n",
            "323/323 [==============================] - 1s 2ms/step - loss: 4.1783 - mae: 1.3379 - val_loss: 11.6648 - val_mae: 2.5569\n"
          ],
          "name": "stdout"
        }
      ]
    },
    {
      "cell_type": "code",
      "metadata": {
        "id": "abCyjfabpL2B",
        "colab_type": "code",
        "colab": {
          "base_uri": "https://localhost:8080/",
          "height": 1000
        },
        "outputId": "ace3f594-0032-4ed6-ad76-9217aa1fd59d"
      },
      "source": [
        "Y_prediction = model.predict(test_data).flatten()\n",
        "#학습한 모델을 기반으로 test_data의 주택가격 예측\n",
        "for i in range(100):\n",
        "  label = test_targets[i]\n",
        "  prediction = Y_prediction[i]\n",
        "  print(\"실제가격 : {:.3f}, 예상가격 : {:.3f}\".format(label, prediction))"
      ],
      "execution_count": null,
      "outputs": [
        {
          "output_type": "stream",
          "text": [
            "실제가격 : 7.200, 예상가격 : 8.552\n",
            "실제가격 : 18.800, 예상가격 : 17.595\n",
            "실제가격 : 19.000, 예상가격 : 19.103\n",
            "실제가격 : 27.000, 예상가격 : 34.055\n",
            "실제가격 : 22.200, 예상가격 : 22.947\n",
            "실제가격 : 24.500, 예상가격 : 21.965\n",
            "실제가격 : 31.200, 예상가격 : 27.304\n",
            "실제가격 : 22.900, 예상가격 : 20.462\n",
            "실제가격 : 20.500, 예상가격 : 17.771\n",
            "실제가격 : 23.200, 예상가격 : 18.171\n",
            "실제가격 : 18.600, 예상가격 : 17.948\n",
            "실제가격 : 14.500, 예상가격 : 16.338\n",
            "실제가격 : 17.800, 예상가격 : 13.002\n",
            "실제가격 : 50.000, 예상가격 : 41.511\n",
            "실제가격 : 20.800, 예상가격 : 19.742\n",
            "실제가격 : 24.300, 예상가격 : 20.248\n",
            "실제가격 : 24.200, 예상가격 : 23.806\n",
            "실제가격 : 19.800, 예상가격 : 20.567\n",
            "실제가격 : 19.100, 예상가격 : 17.885\n",
            "실제가격 : 22.700, 예상가격 : 33.653\n",
            "실제가격 : 12.000, 예상가격 : 9.526\n",
            "실제가격 : 10.200, 예상가격 : 11.102\n",
            "실제가격 : 20.000, 예상가격 : 19.210\n",
            "실제가격 : 18.500, 예상가격 : 14.427\n",
            "실제가격 : 20.900, 예상가격 : 18.748\n",
            "실제가격 : 23.000, 예상가격 : 19.690\n",
            "실제가격 : 27.500, 예상가격 : 30.250\n",
            "실제가격 : 30.100, 예상가격 : 25.861\n",
            "실제가격 : 9.500, 예상가격 : 11.319\n",
            "실제가격 : 22.000, 예상가격 : 18.737\n",
            "실제가격 : 21.200, 예상가격 : 19.830\n",
            "실제가격 : 14.100, 예상가격 : 16.023\n",
            "실제가격 : 33.100, 예상가격 : 33.146\n",
            "실제가격 : 23.400, 예상가격 : 22.064\n",
            "실제가격 : 20.100, 예상가격 : 17.627\n",
            "실제가격 : 7.400, 예상가격 : 4.957\n",
            "실제가격 : 15.400, 예상가격 : 16.571\n",
            "실제가격 : 23.800, 예상가격 : 18.582\n",
            "실제가격 : 20.100, 예상가격 : 17.283\n",
            "실제가격 : 24.500, 예상가격 : 24.155\n",
            "실제가격 : 33.000, 예상가격 : 31.965\n",
            "실제가격 : 28.400, 예상가격 : 27.992\n",
            "실제가격 : 14.100, 예상가격 : 11.357\n",
            "실제가격 : 46.700, 예상가격 : 40.918\n",
            "실제가격 : 32.500, 예상가격 : 26.632\n",
            "실제가격 : 29.600, 예상가격 : 25.982\n",
            "실제가격 : 28.400, 예상가격 : 26.774\n",
            "실제가격 : 19.800, 예상가격 : 17.212\n",
            "실제가격 : 20.200, 예상가격 : 19.749\n",
            "실제가격 : 25.000, 예상가격 : 21.282\n",
            "실제가격 : 35.400, 예상가격 : 31.330\n",
            "실제가격 : 20.300, 예상가격 : 19.037\n",
            "실제가격 : 9.700, 예상가격 : 7.532\n",
            "실제가격 : 14.500, 예상가격 : 12.945\n",
            "실제가격 : 34.900, 예상가격 : 35.600\n",
            "실제가격 : 26.600, 예상가격 : 28.106\n",
            "실제가격 : 7.200, 예상가격 : 8.999\n",
            "실제가격 : 50.000, 예상가격 : 52.054\n",
            "실제가격 : 32.400, 예상가격 : 34.316\n",
            "실제가격 : 21.600, 예상가격 : 24.820\n",
            "실제가격 : 29.800, 예상가격 : 19.513\n",
            "실제가격 : 13.100, 예상가격 : 12.262\n",
            "실제가격 : 27.500, 예상가격 : 15.158\n",
            "실제가격 : 21.200, 예상가격 : 18.383\n",
            "실제가격 : 23.100, 예상가격 : 22.789\n",
            "실제가격 : 21.900, 예상가격 : 20.214\n",
            "실제가격 : 13.000, 예상가격 : 12.048\n",
            "실제가격 : 23.200, 예상가격 : 20.338\n",
            "실제가격 : 8.100, 예상가격 : 8.927\n",
            "실제가격 : 5.600, 예상가격 : 5.408\n",
            "실제가격 : 21.700, 예상가격 : 30.492\n",
            "실제가격 : 29.600, 예상가격 : 28.472\n",
            "실제가격 : 19.600, 예상가격 : 22.156\n",
            "실제가격 : 7.000, 예상가격 : 9.110\n",
            "실제가격 : 26.400, 예상가격 : 25.124\n",
            "실제가격 : 18.900, 예상가격 : 21.144\n",
            "실제가격 : 20.900, 예상가격 : 18.404\n",
            "실제가격 : 28.100, 예상가격 : 22.940\n",
            "실제가격 : 35.400, 예상가격 : 36.088\n",
            "실제가격 : 10.200, 예상가격 : 6.585\n",
            "실제가격 : 24.300, 예상가격 : 21.731\n",
            "실제가격 : 43.100, 예상가격 : 37.795\n",
            "실제가격 : 17.600, 예상가격 : 15.761\n",
            "실제가격 : 15.400, 예상가격 : 11.008\n",
            "실제가격 : 16.200, 예상가격 : 16.577\n",
            "실제가격 : 27.100, 예상가격 : 20.133\n",
            "실제가격 : 21.400, 예상가격 : 18.001\n",
            "실제가격 : 21.500, 예상가격 : 18.803\n",
            "실제가격 : 22.400, 예상가격 : 21.626\n",
            "실제가격 : 25.000, 예상가격 : 23.424\n",
            "실제가격 : 16.600, 예상가격 : 19.989\n",
            "실제가격 : 18.600, 예상가격 : 18.624\n",
            "실제가격 : 22.000, 예상가격 : 28.052\n",
            "실제가격 : 42.800, 예상가격 : 42.221\n",
            "실제가격 : 35.100, 예상가격 : 36.418\n",
            "실제가격 : 21.500, 예상가격 : 19.839\n",
            "실제가격 : 36.000, 예상가격 : 34.137\n",
            "실제가격 : 21.900, 예상가격 : 40.923\n",
            "실제가격 : 24.100, 예상가격 : 24.095\n",
            "실제가격 : 50.000, 예상가격 : 46.666\n"
          ],
          "name": "stdout"
        }
      ]
    }
  ]
}